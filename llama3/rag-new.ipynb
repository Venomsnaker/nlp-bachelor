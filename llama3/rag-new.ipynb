{
 "cells": [
  {
   "cell_type": "code",
   "execution_count": 2,
   "metadata": {},
   "outputs": [
    {
     "name": "stdout",
     "output_type": "stream",
     "text": [
      "[Document(id_='7a3082aa-d6b8-45d7-b1c8-6b4328cf2686', embedding=None, metadata={'file_path': 'd:\\\\Projects\\\\nlp-bachelor\\\\llama3\\\\data\\\\info1.txt', 'file_name': 'info1.txt', 'file_type': 'text/plain', 'file_size': 130, 'creation_date': '2024-07-20', 'last_modified_date': '2024-07-20'}, excluded_embed_metadata_keys=['file_name', 'file_type', 'file_size', 'creation_date', 'last_modified_date', 'last_accessed_date'], excluded_llm_metadata_keys=['file_name', 'file_type', 'file_size', 'creation_date', 'last_modified_date', 'last_accessed_date'], relationships={}, text='The monarch butterfly or simply monarch (Danaus plexippus) is a milkweed butterfly (subfamily Danainae) in the family Nymphalidae.', mimetype='text/plain', start_char_idx=None, end_char_idx=None, text_template='{metadata_str}\\n\\n{content}', metadata_template='{key}: {value}', metadata_seperator='\\n'), Document(id_='9bf969e9-0ec4-4659-87e1-f6a7cb94b7e4', embedding=None, metadata={'file_path': 'd:\\\\Projects\\\\nlp-bachelor\\\\llama3\\\\data\\\\info2.txt', 'file_name': 'info2.txt', 'file_type': 'text/plain', 'file_size': 142, 'creation_date': '2024-07-20', 'last_modified_date': '2024-07-20'}, excluded_embed_metadata_keys=['file_name', 'file_type', 'file_size', 'creation_date', 'last_modified_date', 'last_accessed_date'], excluded_llm_metadata_keys=['file_name', 'file_type', 'file_size', 'creation_date', 'last_modified_date', 'last_accessed_date'], relationships={}, text='The common blue butterfly or European common blue[2] (Polyommatus icarus) is a butterfly in the family Lycaenidae and subfamily Polyommatinae.', mimetype='text/plain', start_char_idx=None, end_char_idx=None, text_template='{metadata_str}\\n\\n{content}', metadata_template='{key}: {value}', metadata_seperator='\\n'), Document(id_='7c5a0f10-c3fd-4ac3-a93b-05e867d80226', embedding=None, metadata={'file_path': 'd:\\\\Projects\\\\nlp-bachelor\\\\llama3\\\\data\\\\info3.txt', 'file_name': 'info3.txt', 'file_type': 'text/plain', 'file_size': 394, 'creation_date': '2024-07-20', 'last_modified_date': '2024-07-20'}, excluded_embed_metadata_keys=['file_name', 'file_type', 'file_size', 'creation_date', 'last_modified_date', 'last_accessed_date'], excluded_llm_metadata_keys=['file_name', 'file_type', 'file_size', 'creation_date', 'last_modified_date', 'last_accessed_date'], relationships={}, text='Delias eucharis,[1] the common Jezebel,[2][3] is a medium-sized pierid butterfly found in many areas of south and southeast Asia, especially in the non-arid regions of India, Bangladesh, Sri Lanka, Indonesia, Myanmar[3][2][4] and Thailand.\\r\\nMyscelia cyaniris, the blue wave, blue-banded purplewing, tropical blue wave, whitened bluewing, or royal blue, is a butterfly of the family Nymphalidae.', mimetype='text/plain', start_char_idx=None, end_char_idx=None, text_template='{metadata_str}\\n\\n{content}', metadata_template='{key}: {value}', metadata_seperator='\\n')]\n",
      "Doc ID: 7a3082aa-d6b8-45d7-b1c8-6b4328cf2686\n",
      "Text: The monarch butterfly or simply monarch (Danaus plexippus) is a\n",
      "milkweed butterfly (subfamily Danainae) in the family Nymphalidae.\n"
     ]
    }
   ],
   "source": [
    "from llama_index.core import VectorStoreIndex, SimpleDirectoryReader\n",
    "from llama_index.core import Settings\n",
    "\n",
    "documents = SimpleDirectoryReader(\"data\").load_data()\n",
    "print(documents)\n",
    "print(documents[0])"
   ]
  },
  {
   "cell_type": "code",
   "execution_count": 3,
   "metadata": {},
   "outputs": [
    {
     "data": {
      "text/plain": [
       "[TextNode(id_='e2129e4b-2ae1-42ab-85e0-1940bc75a6d1', embedding=None, metadata={'file_path': 'd:\\\\Projects\\\\nlp-bachelor\\\\llama3\\\\data\\\\info1.txt', 'file_name': 'info1.txt', 'file_type': 'text/plain', 'file_size': 130, 'creation_date': '2024-07-20', 'last_modified_date': '2024-07-20'}, excluded_embed_metadata_keys=['file_name', 'file_type', 'file_size', 'creation_date', 'last_modified_date', 'last_accessed_date'], excluded_llm_metadata_keys=['file_name', 'file_type', 'file_size', 'creation_date', 'last_modified_date', 'last_accessed_date'], relationships={<NodeRelationship.SOURCE: '1'>: RelatedNodeInfo(node_id='7a3082aa-d6b8-45d7-b1c8-6b4328cf2686', node_type=<ObjectType.DOCUMENT: '4'>, metadata={'file_path': 'd:\\\\Projects\\\\nlp-bachelor\\\\llama3\\\\data\\\\info1.txt', 'file_name': 'info1.txt', 'file_type': 'text/plain', 'file_size': 130, 'creation_date': '2024-07-20', 'last_modified_date': '2024-07-20'}, hash='7338c181f08cdd85ec9c6238c8278ff678e912657f6b96127ebaee3540828b0d')}, text='The monarch butterfly or simply monarch (Danaus plexippus) is a milkweed butterfly (subfamily Danainae) in the family Nymphalidae.', mimetype='text/plain', start_char_idx=0, end_char_idx=130, text_template='{metadata_str}\\n\\n{content}', metadata_template='{key}: {value}', metadata_seperator='\\n'),\n",
       " TextNode(id_='ec6fc479-12e6-4e2f-a596-b0b080bfb7dd', embedding=None, metadata={'file_path': 'd:\\\\Projects\\\\nlp-bachelor\\\\llama3\\\\data\\\\info2.txt', 'file_name': 'info2.txt', 'file_type': 'text/plain', 'file_size': 142, 'creation_date': '2024-07-20', 'last_modified_date': '2024-07-20'}, excluded_embed_metadata_keys=['file_name', 'file_type', 'file_size', 'creation_date', 'last_modified_date', 'last_accessed_date'], excluded_llm_metadata_keys=['file_name', 'file_type', 'file_size', 'creation_date', 'last_modified_date', 'last_accessed_date'], relationships={<NodeRelationship.SOURCE: '1'>: RelatedNodeInfo(node_id='9bf969e9-0ec4-4659-87e1-f6a7cb94b7e4', node_type=<ObjectType.DOCUMENT: '4'>, metadata={'file_path': 'd:\\\\Projects\\\\nlp-bachelor\\\\llama3\\\\data\\\\info2.txt', 'file_name': 'info2.txt', 'file_type': 'text/plain', 'file_size': 142, 'creation_date': '2024-07-20', 'last_modified_date': '2024-07-20'}, hash='4f587e8ee13cdc3503dfead5693a17d197757f3f41e032464b5a07bcf6623058')}, text='The common blue butterfly or European common blue[2] (Polyommatus icarus) is a butterfly in the family Lycaenidae and subfamily Polyommatinae.', mimetype='text/plain', start_char_idx=0, end_char_idx=142, text_template='{metadata_str}\\n\\n{content}', metadata_template='{key}: {value}', metadata_seperator='\\n'),\n",
       " TextNode(id_='88366bd3-f6af-467b-8760-6c70f230d290', embedding=None, metadata={'file_path': 'd:\\\\Projects\\\\nlp-bachelor\\\\llama3\\\\data\\\\info3.txt', 'file_name': 'info3.txt', 'file_type': 'text/plain', 'file_size': 394, 'creation_date': '2024-07-20', 'last_modified_date': '2024-07-20'}, excluded_embed_metadata_keys=['file_name', 'file_type', 'file_size', 'creation_date', 'last_modified_date', 'last_accessed_date'], excluded_llm_metadata_keys=['file_name', 'file_type', 'file_size', 'creation_date', 'last_modified_date', 'last_accessed_date'], relationships={<NodeRelationship.SOURCE: '1'>: RelatedNodeInfo(node_id='7c5a0f10-c3fd-4ac3-a93b-05e867d80226', node_type=<ObjectType.DOCUMENT: '4'>, metadata={'file_path': 'd:\\\\Projects\\\\nlp-bachelor\\\\llama3\\\\data\\\\info3.txt', 'file_name': 'info3.txt', 'file_type': 'text/plain', 'file_size': 394, 'creation_date': '2024-07-20', 'last_modified_date': '2024-07-20'}, hash='bf9150c7d2b5be98818cb386170b4898ff6021197fd130a23e7e3ce3dcab9ed1')}, text='Delias eucharis,[1] the common Jezebel,[2][3] is a medium-sized pierid butterfly found in many areas of south and southeast Asia, especially in the non-arid regions of India, Bangladesh, Sri Lanka, Indonesia, Myanmar[3][2][4] and Thailand.\\r\\nMyscelia cyaniris, the blue wave, blue-banded purplewing, tropical blue wave, whitened bluewing, or royal blue, is a butterfly of the family Nymphalidae.', mimetype='text/plain', start_char_idx=0, end_char_idx=394, text_template='{metadata_str}\\n\\n{content}', metadata_template='{key}: {value}', metadata_seperator='\\n')]"
      ]
     },
     "execution_count": 3,
     "metadata": {},
     "output_type": "execute_result"
    }
   ],
   "source": [
    "from llama_index.core.node_parser import SentenceSplitter\n",
    "\n",
    "text_splitter = SentenceSplitter(chunk_size=200, chunk_overlap=10)\n",
    "nodes = text_splitter.get_nodes_from_documents(documents=documents)\n",
    "nodes"
   ]
  },
  {
   "cell_type": "code",
   "execution_count": 19,
   "metadata": {},
   "outputs": [],
   "source": [
    "from llama_index.embeddings.huggingface import HuggingFaceEmbedding\n",
    "from llama_index.core import Settings\n",
    "\n",
    "Settings.embed_model = HuggingFaceEmbedding(\n",
    "    model_name=\"BAAI/bge-small-en-v1.5\"\n",
    ")"
   ]
  },
  {
   "cell_type": "code",
   "execution_count": 36,
   "metadata": {},
   "outputs": [
    {
     "name": "stderr",
     "output_type": "stream",
     "text": [
      "Supplied context_window 3900 is greater than the model's max input size 2048. Disable this warning by setting a lower context_window.\n"
     ]
    }
   ],
   "source": [
    "from llama_index.core import PromptTemplate\n",
    "\n",
    "\n",
    "# Transform a string into input zephyr-specific input\n",
    "def completion_to_prompt(completion):\n",
    "    return f\"<|system|>\\n</s>\\n<|user|>\\n{completion}</s>\\n<|assistant|>\\n\"\n",
    "\n",
    "\n",
    "# Transform a list of chat messages into zephyr-specific input\n",
    "def messages_to_prompt(messages):\n",
    "    prompt = \"\"\n",
    "    for message in messages:\n",
    "        if message.role == \"system\":\n",
    "            prompt += f\"<|system|>\\n{message.content}</s>\\n\"\n",
    "        elif message.role == \"user\":\n",
    "            prompt += f\"<|user|>\\n{message.content}</s>\\n\"\n",
    "        elif message.role == \"assistant\":\n",
    "            prompt += f\"<|assistant|>\\n{message.content}</s>\\n\"\n",
    "\n",
    "    # ensure we start with a system prompt, insert blank if needed\n",
    "    if not prompt.startswith(\"<|system|>\\n\"):\n",
    "        prompt = \"<|system|>\\n</s>\\n\" + prompt\n",
    "\n",
    "    # add final assistant prompt\n",
    "    prompt = prompt + \"<|assistant|>\\n\"\n",
    "\n",
    "    return prompt\n",
    "\n",
    "\n",
    "import torch\n",
    "from llama_index.llms.huggingface import HuggingFaceLLM\n",
    "from llama_index.core import Settings\n",
    "\n",
    "Settings.llm = HuggingFaceLLM(\n",
    "    model_name=\"OuteAI/Lite-Mistral-150M-v2-Instruct\",\n",
    "    tokenizer_name=\"OuteAI/Lite-Mistral-150M-v2-Instruct\",\n",
    "    context_window=3900,\n",
    "    max_new_tokens=256,\n",
    "    generate_kwargs={\"temperature\": 0.7, \"top_k\": 50, \"top_p\": 0.95},\n",
    "    # messages_to_prompt=messages_to_prompt,\n",
    "    # completion_to_prompt=completion_to_prompt,\n",
    "    device_map=\"auto\",\n",
    "    tokenizer_outputs_to_remove=[\"token_type_ids\"]\n",
    ")"
   ]
  },
  {
   "cell_type": "code",
   "execution_count": 37,
   "metadata": {},
   "outputs": [],
   "source": [
    "index = VectorStoreIndex.from_documents(documents)"
   ]
  },
  {
   "cell_type": "code",
   "execution_count": 38,
   "metadata": {},
   "outputs": [
    {
     "name": "stderr",
     "output_type": "stream",
     "text": [
      "c:\\Users\\ADMIN\\anaconda3\\Lib\\site-packages\\transformers\\generation\\configuration_utils.py:540: UserWarning: `do_sample` is set to `False`. However, `temperature` is set to `0.7` -- this flag is only used in sample-based generation modes. You should set `do_sample=True` or unset `temperature`.\n",
      "  warnings.warn(\n",
      "c:\\Users\\ADMIN\\anaconda3\\Lib\\site-packages\\transformers\\generation\\configuration_utils.py:545: UserWarning: `do_sample` is set to `False`. However, `top_p` is set to `0.95` -- this flag is only used in sample-based generation modes. You should set `do_sample=True` or unset `top_p`.\n",
      "  warnings.warn(\n",
      "Setting `pad_token_id` to `eos_token_id`:2 for open-end generation.\n"
     ]
    }
   ],
   "source": [
    "query_engine = index.as_query_engine()\n",
    "response = query_engine.query(\"Who wrote the play Romeo and Juliet?\")"
   ]
  },
  {
   "cell_type": "code",
   "execution_count": 39,
   "metadata": {},
   "outputs": [
    {
     "name": "stdout",
     "output_type": "stream",
     "text": [
      "\n",
      "The play Romeo and Juliet was written by Antonio Vivaldi.\n"
     ]
    }
   ],
   "source": [
    "print(response)"
   ]
  },
  {
   "cell_type": "code",
   "execution_count": null,
   "metadata": {},
   "outputs": [],
   "source": []
  }
 ],
 "metadata": {
  "kernelspec": {
   "display_name": "base",
   "language": "python",
   "name": "python3"
  },
  "language_info": {
   "codemirror_mode": {
    "name": "ipython",
    "version": 3
   },
   "file_extension": ".py",
   "mimetype": "text/x-python",
   "name": "python",
   "nbconvert_exporter": "python",
   "pygments_lexer": "ipython3",
   "version": "3.12.4"
  }
 },
 "nbformat": 4,
 "nbformat_minor": 2
}
