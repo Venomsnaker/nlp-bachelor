{
 "cells": [
  {
   "cell_type": "markdown",
   "metadata": {},
   "source": [
    "#### Libraries"
   ]
  },
  {
   "cell_type": "code",
   "execution_count": 1,
   "metadata": {},
   "outputs": [
    {
     "name": "stderr",
     "output_type": "stream",
     "text": [
      "c:\\Users\\ADMIN\\anaconda3\\Lib\\site-packages\\pydantic\\_internal\\_fields.py:161: UserWarning: Field \"model_id\" has conflict with protected namespace \"model_\".\n",
      "\n",
      "You may be able to resolve this warning by setting `model_config['protected_namespaces'] = ()`.\n",
      "  warnings.warn(\n"
     ]
    }
   ],
   "source": [
    "from llama_index.core import SimpleDirectoryReader, Settings, PromptTemplate\n",
    "from llama_index.core.node_parser import SentenceSplitter\n",
    "from llama_index.llms.huggingface import HuggingFaceLLM\n",
    "from llama_index.embeddings.huggingface import HuggingFaceEmbedding\n",
    "import torch"
   ]
  },
  {
   "cell_type": "code",
   "execution_count": 2,
   "metadata": {},
   "outputs": [
    {
     "name": "stdout",
     "output_type": "stream",
     "text": [
      "[Document(id_='2b499b08-e20b-4ccd-a9bf-a6a8c29e5075', embedding=None, metadata={'file_path': 'd:\\\\Projects\\\\nlp-bachelor\\\\llama3\\\\data\\\\info1.txt', 'file_name': 'info1.txt', 'file_type': 'text/plain', 'file_size': 1742, 'creation_date': '2024-07-20', 'last_modified_date': '2024-07-20'}, excluded_embed_metadata_keys=['file_name', 'file_type', 'file_size', 'creation_date', 'last_modified_date', 'last_accessed_date'], excluded_llm_metadata_keys=['file_name', 'file_type', 'file_size', 'creation_date', 'last_modified_date', 'last_accessed_date'], relationships={}, text='2-Day Travel Itinerary with a Budget of 100,000 VND per Person (Total: 300,000 VND for 3 People)\\r\\nDay 1:\\r\\n\\r\\nMorning:\\r\\nVietnam National University, Ho Chi Minh City - Tour the campus and visit the science and technology museum. (free admission)\\r\\n\\r\\nNoon:\\r\\nHo Chi Minh City Museum of Fine Arts - Explore the art collection. (30,000 VND x 3 = 90,000 VND)\\r\\nLocal street food vendor - Have lunch (approx. 20,000 VND x 3 = 60,000 VND).\\r\\n\\r\\nAfternoon:\\r\\nIndependence Palace - Learn about the history and architecture of this iconic Vietnamese landmark. (65,000 VND x 3 = 195,000 VND)\\r\\nTran Hung Dao Temple - Light incense and pray for good fortune. (free admission) \\r\\n\\r\\nEvening:\\r\\nTran Hung Dao Temple - Freely explore the bustling areas around (Free admission)\\r\\nLocal street food vendor - Have dinner (approx. 20,000 VND x 3 = 60,000 VND).\\r\\n\\r\\nDay 2:\\r\\nMorning:\\r\\nOng Pagoda - Appreciate the beautiful architecture and serene environment of the pagoda. (free admission)\\r\\n\\r\\nNoon:\\r\\nLocal street food vendor - Have lunch (approx. 20,000 VND x 3 = 60,000 VND).\\r\\n\\r\\nAfternoon:\\r\\nBang Lang Stork Garden - Admire the beautiful storks. (20,000 VND x 3 = 60,000 VND)\\r\\nBinh Thuy Ancient House - Explore the history and architecture of a traditional old house in the Mekong Delta. (15,000 VND x 3 = 45,000 VND)\\r\\n\\r\\nEvening:\\r\\nLocal cultural activities - Freely explore the (Free).\\r\\n\\r\\nBudget Breakdown:\\r\\nTransportation (bus, etc.): 30,000 VND\\r\\nAttractions and activities: 450,000 VND\\r\\nMeals (local street food): 180,000 VND\\r\\nMiscellaneous (souvenirs, tips, etc.): 0 VND\\r\\nTotal: 660,000 VND (220,000 VND per person)\\r\\nThis itinerary exceeds the original budget of 100,000 VND per person but remains within a more realistic budget for a 2-day trip at 220,000 VND per person.', mimetype='text/plain', start_char_idx=None, end_char_idx=None, text_template='{metadata_str}\\n\\n{content}', metadata_template='{key}: {value}', metadata_seperator='\\n'), Document(id_='c5b22397-04de-43ef-b726-ce495a107ddd', embedding=None, metadata={'file_path': 'd:\\\\Projects\\\\nlp-bachelor\\\\llama3\\\\data\\\\info2.txt', 'file_name': 'info2.txt', 'file_type': 'text/plain', 'file_size': 2265, 'creation_date': '2024-07-20', 'last_modified_date': '2024-07-20'}, excluded_embed_metadata_keys=['file_name', 'file_type', 'file_size', 'creation_date', 'last_modified_date', 'last_accessed_date'], excluded_llm_metadata_keys=['file_name', 'file_type', 'file_size', 'creation_date', 'last_modified_date', 'last_accessed_date'], relationships={}, text='3-Day Travel Itinerary with a Budget of 200,000 VND per Person (Total: 600,000 VND for 3 People)\\r\\nDay 1:\\r\\n\\r\\nMorning:\\r\\n\\r\\nVietnam National University, Ho Chi Minh City - Tour the campus and visit the science and technology museum. (Free admission)\\r\\nNoon:\\r\\n\\r\\nHo Chi Minh City Museum of Fine Arts - Explore the art collection featuring traditional and contemporary Vietnamese art. (30,000 VND x 3 = 90,000 VND)\\r\\nLunch at a local street food vendor - Enjoy affordable and authentic Vietnamese street food. (Approx. 20,000 VND x 3 = 60,000 VND)\\r\\nAfternoon:\\r\\n\\r\\nTran Hung Dao Temple - Light incense and pray for good fortune at this serene temple. (Free admission)\\r\\nEvening:\\r\\n\\r\\nIndependence Palace - Freely explore the bustling areas around this iconic landmark. (Free exploration)\\r\\nDinner at a local street food vendor - Savor another delicious street food meal. (Approx. 20,000 VND x 3 = 60,000 VND)\\r\\nDay 2:\\r\\n\\r\\nMorning:\\r\\n\\r\\nOng Pagoda - Admire the traditional architecture and peaceful environment of this historic pagoda. (Free admission)\\r\\nNoon:\\r\\n\\r\\nLocal street food vendor - Have lunch with another budget-friendly and authentic Vietnamese meal. (Approx. 20,000 VND x 3 = 60,000 VND)\\r\\nAfternoon:\\r\\n\\r\\nBang Lang Stork Garden - Observe the graceful storks in their natural habitat. (20,000 VND x 3 = 60,000 VND)\\r\\nEvening:\\r\\n\\r\\nLocal cultural activities - Engage with local culture through open-air events and street performances. (Free exploration)\\r\\nDay 3:\\r\\n\\r\\nMorning:\\r\\n\\r\\nTruc Lam Zen Monastery in the South - Experience the tranquil atmosphere of this serene monastery. (20,000 VND x 3 = 60,000 VND)\\r\\nCan Tho Museum - Learn about the local culture and history of the Mekong Delta. (15,000 VND x 3 = 45,000 VND)\\r\\nNoon:\\r\\n\\r\\nLocal street food vendor - Enjoy a final delicious and affordable Vietnamese meal for lunch. (Approx. 20,000 VND x 3 = 60,000 VND)\\r\\nAfternoon:\\r\\n\\r\\nLocal markets and streets - Immerse in the local life and do some last-minute sightseeing. (Free exploration)\\r\\n\\r\\nBudget Breakdown:\\r\\n\\r\\nTransportation (bus, etc.): 9,000 VND (bus fares for local travel)\\r\\nAttractions and activities: 315,000 VND\\r\\nMeals (local street food): 180,000 VND\\r\\nMiscellaneous (souvenirs, tips, etc.): 96,000 VND (to cover additional expenses)\\r\\nTotal: 600,000 VND (200,000 VND per person)', mimetype='text/plain', start_char_idx=None, end_char_idx=None, text_template='{metadata_str}\\n\\n{content}', metadata_template='{key}: {value}', metadata_seperator='\\n'), Document(id_='c2096926-9fd7-4189-9529-83cef33e6fe1', embedding=None, metadata={'file_path': 'd:\\\\Projects\\\\nlp-bachelor\\\\llama3\\\\data\\\\info3.txt', 'file_name': 'info3.txt', 'file_type': 'text/plain', 'file_size': 3405, 'creation_date': '2024-07-20', 'last_modified_date': '2024-07-20'}, excluded_embed_metadata_keys=['file_name', 'file_type', 'file_size', 'creation_date', 'last_modified_date', 'last_accessed_date'], excluded_llm_metadata_keys=['file_name', 'file_type', 'file_size', 'creation_date', 'last_modified_date', 'last_accessed_date'], relationships={}, text='5-Day Travel Itinerary with a Budget of 300,000 VND per Person (Total: 1,200,000 VND for 4 People)\\r\\nDay 1:\\r\\n\\r\\nMorning:\\r\\n\\r\\nVietnam National University, Ho Chi Minh City - Tour the campus, museums, and buildings. (Free admission)\\r\\nNoon:\\r\\n\\r\\nHo Chi Minh City Museum of Fine Arts - Admire the art collections featuring Vietnamese art. (30,000 VND x 4 = 120,000 VND)\\r\\nLocal restaurant - Enjoy traditional Vietnamese cuisine for lunch. (Approx. 30,000 VND x 4 = 120,000 VND)\\r\\nAfternoon:\\r\\n\\r\\nIndependence Palace - Explore the history and architecture of this landmark. (65,000 VND x 4 = 260,000 VND)\\r\\nTran Hung Dao Temple - Light incense and enjoy the serene environment. (Free admission)\\r\\nEvening:\\r\\n\\r\\nNight streets around Independence Palace - Experience local nightlife and street scenes. (Free exploration)\\r\\nLocal restaurant - Enjoy affordable street food. (Approx. 30,000 VND x 4 = 120,000 VND)\\r\\nDay 2:\\r\\n\\r\\nMorning:\\r\\n\\r\\nCai Rang Floating Market - Experience the bustling market and local specialties. (50,000 VND x 4 = 200,000 VND)\\r\\nVisit Ong Pagoda - Appreciate the beautiful architecture and peaceful environment. (Free admission)\\r\\nNoon:\\r\\n\\r\\nRiverside eatery - Enjoy fresh local dishes for lunch. (Approx. 30,000 VND x 4 = 120,000 VND)\\r\\nAfternoon:\\r\\n\\r\\nBang Lang Stork Garden - Admire the graceful storks. (20,000 VND x 4 = 80,000 VND)\\r\\nBinh Thuy Ancient House - Learn about the historical architecture. (15,000 VND x 4 = 60,000 VND)\\r\\nEvening:\\r\\n\\r\\nLocal cultural activities - Engage with local traditions and culture. (Free exploration)\\r\\nDay 3:\\r\\n\\r\\nMorning:\\r\\n\\r\\nTruc Lam Zen Monastery in the South - Experience the tranquil atmosphere of the pagoda. (20,000 VND x 4 = 80,000 VND)\\r\\nCan Tho Museum - Learn about the local culture and history. (15,000 VND x 4 = 60,000 VND)\\r\\nNoon:\\r\\n\\r\\nLocal restaurant - Enjoy traditional cuisine. (Approx. 30,000 VND x 4 = 120,000 VND)\\r\\nAfternoon:\\r\\n\\r\\nLocal markets and streets - Immerse yourself in the local culture. (Free exploration)\\r\\nEvening:\\r\\n\\r\\nLocal cultural activities - Experience traditional performances or events. (Free exploration)\\r\\nDay 4:\\r\\n\\r\\nMorning:\\r\\n\\r\\nTtraditional craft villages on the outskirts of Can Tho - Discover local handicrafts and production processes. (Free exploration)\\r\\nNoon:\\r\\n\\r\\nRural restaurant - Enjoy rustic local dishes. (Approx. 30,000 VND x 4 = 120,000 VND)\\r\\nAfternoon:\\r\\n\\r\\nThe rice fields and fruit orchards in the suburbs - Experience the countryside and local agriculture. (Free exploration)\\r\\nReturn to the city - Rest and relax. (Free exploration)\\r\\nEvening:\\r\\n\\r\\nNight markets and streets - Enjoy the evening atmosphere. (Free exploration)\\r\\nDay 5:\\r\\n\\r\\nMorning:\\r\\n\\r\\nVisit any remaining attractions based on your interests - Explore more of the city or nearby areas. (Free exploration)\\r\\nDo last-minute shopping for local specialties - Pick up souvenirs. (Free exploration)\\r\\nNoon:\\r\\n\\r\\nLocal restaurant - Enjoy your last meal in the area. (Approx. 30,000 VND x 4 = 120,000 VND)\\r\\nAfternoon:\\r\\n\\r\\nReturn home - End of the trip. (Free exploration)\\r\\nBudget Breakdown:\\r\\n\\r\\nTransportation (bus, etc.): 12,000 VND\\r\\nAttractions and activities: 1,085,000 VND\\r\\nMeals (local restaurants): 660,000 VND\\r\\nMiscellaneous (souvenirs, tips, etc.): 3,000 VND (to cover additional expenses)\\r\\nTotal: 1,760,000 VND (440,000 VND per person)\\r\\n\\r\\nThis itinerary stays close to the original budget, though slightly exceeding it to provide a more realistic and enjoyable travel experience.', mimetype='text/plain', start_char_idx=None, end_char_idx=None, text_template='{metadata_str}\\n\\n{content}', metadata_template='{key}: {value}', metadata_seperator='\\n')]\n"
     ]
    }
   ],
   "source": [
    "documents = SimpleDirectoryReader(\"data\").load_data()\n",
    "print(documents)"
   ]
  },
  {
   "cell_type": "code",
   "execution_count": 6,
   "metadata": {},
   "outputs": [
    {
     "data": {
      "text/plain": [
       "[TextNode(id_='2712b6cb-b723-4dcd-8da7-44cc81b80a83', embedding=None, metadata={'file_path': 'd:\\\\Projects\\\\nlp-bachelor\\\\llama3\\\\data\\\\info1.txt', 'file_name': 'info1.txt', 'file_type': 'text/plain', 'file_size': 1742, 'creation_date': '2024-07-20', 'last_modified_date': '2024-07-20'}, excluded_embed_metadata_keys=['file_name', 'file_type', 'file_size', 'creation_date', 'last_modified_date', 'last_accessed_date'], excluded_llm_metadata_keys=['file_name', 'file_type', 'file_size', 'creation_date', 'last_modified_date', 'last_accessed_date'], relationships={<NodeRelationship.SOURCE: '1'>: RelatedNodeInfo(node_id='2b499b08-e20b-4ccd-a9bf-a6a8c29e5075', node_type=<ObjectType.DOCUMENT: '4'>, metadata={'file_path': 'd:\\\\Projects\\\\nlp-bachelor\\\\llama3\\\\data\\\\info1.txt', 'file_name': 'info1.txt', 'file_type': 'text/plain', 'file_size': 1742, 'creation_date': '2024-07-20', 'last_modified_date': '2024-07-20'}, hash='d3d848516dca3f428cc723cc66e7c06f5653684e8de2a678bd6014781597b332')}, text='2-Day Travel Itinerary with a Budget of 100,000 VND per Person (Total: 300,000 VND for 3 People)\\r\\nDay 1:\\r\\n\\r\\nMorning:\\r\\nVietnam National University, Ho Chi Minh City - Tour the campus and visit the science and technology museum. (free admission)\\r\\n\\r\\nNoon:\\r\\nHo Chi Minh City Museum of Fine Arts - Explore the art collection. (30,000 VND x 3 = 90,000 VND)\\r\\nLocal street food vendor - Have lunch (approx. 20,000 VND x 3 = 60,000 VND).\\r\\n\\r\\nAfternoon:\\r\\nIndependence Palace - Learn about the history and architecture of this iconic Vietnamese landmark. (65,000 VND x 3 = 195,000 VND)\\r\\nTran Hung Dao Temple - Light incense and pray for good fortune. (free admission) \\r\\n\\r\\nEvening:\\r\\nTran Hung Dao Temple - Freely explore the bustling areas around (Free admission)\\r\\nLocal street food vendor - Have dinner (approx. 20,000 VND x 3 = 60,000 VND).\\r\\n\\r\\nDay 2:\\r\\nMorning:\\r\\nOng Pagoda - Appreciate the beautiful architecture and serene environment of the pagoda. (free admission)\\r\\n\\r\\nNoon:\\r\\nLocal street food vendor - Have lunch (approx. 20,000 VND x 3 = 60,000 VND).\\r\\n\\r\\nAfternoon:\\r\\nBang Lang Stork Garden - Admire the beautiful storks. (20,000 VND x 3 = 60,000 VND)\\r\\nBinh Thuy Ancient House - Explore the history and architecture of a traditional old house in the Mekong Delta. (15,000 VND x 3 = 45,000 VND)\\r\\n\\r\\nEvening:\\r\\nLocal cultural activities - Freely explore the (Free).\\r\\n\\r\\nBudget Breakdown:\\r\\nTransportation (bus, etc.): 30,000 VND\\r\\nAttractions and activities: 450,000 VND\\r\\nMeals (local street food): 180,000 VND\\r\\nMiscellaneous (souvenirs, tips, etc.): 0 VND\\r\\nTotal: 660,000 VND (220,000 VND per person)\\r\\nThis itinerary exceeds the original budget of 100,000 VND per person but remains within a more realistic budget for a 2-day trip at 220,000 VND per person.', mimetype='text/plain', start_char_idx=0, end_char_idx=1742, text_template='{metadata_str}\\n\\n{content}', metadata_template='{key}: {value}', metadata_seperator='\\n'),\n",
       " TextNode(id_='59552443-c54e-4e57-996a-a55118ddef66', embedding=None, metadata={'file_path': 'd:\\\\Projects\\\\nlp-bachelor\\\\llama3\\\\data\\\\info2.txt', 'file_name': 'info2.txt', 'file_type': 'text/plain', 'file_size': 2265, 'creation_date': '2024-07-20', 'last_modified_date': '2024-07-20'}, excluded_embed_metadata_keys=['file_name', 'file_type', 'file_size', 'creation_date', 'last_modified_date', 'last_accessed_date'], excluded_llm_metadata_keys=['file_name', 'file_type', 'file_size', 'creation_date', 'last_modified_date', 'last_accessed_date'], relationships={<NodeRelationship.SOURCE: '1'>: RelatedNodeInfo(node_id='c5b22397-04de-43ef-b726-ce495a107ddd', node_type=<ObjectType.DOCUMENT: '4'>, metadata={'file_path': 'd:\\\\Projects\\\\nlp-bachelor\\\\llama3\\\\data\\\\info2.txt', 'file_name': 'info2.txt', 'file_type': 'text/plain', 'file_size': 2265, 'creation_date': '2024-07-20', 'last_modified_date': '2024-07-20'}, hash='dad93ce0824cfeb7bfb2bf8f1e1629408d7509c5feb503c0fe991fc0c29265a4')}, text='3-Day Travel Itinerary with a Budget of 200,000 VND per Person (Total: 600,000 VND for 3 People)\\r\\nDay 1:\\r\\n\\r\\nMorning:\\r\\n\\r\\nVietnam National University, Ho Chi Minh City - Tour the campus and visit the science and technology museum. (Free admission)\\r\\nNoon:\\r\\n\\r\\nHo Chi Minh City Museum of Fine Arts - Explore the art collection featuring traditional and contemporary Vietnamese art. (30,000 VND x 3 = 90,000 VND)\\r\\nLunch at a local street food vendor - Enjoy affordable and authentic Vietnamese street food. (Approx. 20,000 VND x 3 = 60,000 VND)\\r\\nAfternoon:\\r\\n\\r\\nTran Hung Dao Temple - Light incense and pray for good fortune at this serene temple. (Free admission)\\r\\nEvening:\\r\\n\\r\\nIndependence Palace - Freely explore the bustling areas around this iconic landmark. (Free exploration)\\r\\nDinner at a local street food vendor - Savor another delicious street food meal. (Approx. 20,000 VND x 3 = 60,000 VND)\\r\\nDay 2:\\r\\n\\r\\nMorning:\\r\\n\\r\\nOng Pagoda - Admire the traditional architecture and peaceful environment of this historic pagoda. (Free admission)\\r\\nNoon:\\r\\n\\r\\nLocal street food vendor - Have lunch with another budget-friendly and authentic Vietnamese meal. (Approx. 20,000 VND x 3 = 60,000 VND)\\r\\nAfternoon:\\r\\n\\r\\nBang Lang Stork Garden - Observe the graceful storks in their natural habitat. (20,000 VND x 3 = 60,000 VND)\\r\\nEvening:\\r\\n\\r\\nLocal cultural activities - Engage with local culture through open-air events and street performances. (Free exploration)\\r\\nDay 3:\\r\\n\\r\\nMorning:\\r\\n\\r\\nTruc Lam Zen Monastery in the South - Experience the tranquil atmosphere of this serene monastery. (20,000 VND x 3 = 60,000 VND)\\r\\nCan Tho Museum - Learn about the local culture and history of the Mekong Delta. (15,000 VND x 3 = 45,000 VND)\\r\\nNoon:\\r\\n\\r\\nLocal street food vendor - Enjoy a final delicious and affordable Vietnamese meal for lunch. (Approx. 20,000 VND x 3 = 60,000 VND)\\r\\nAfternoon:\\r\\n\\r\\nLocal markets and streets - Immerse in the local life and do some last-minute sightseeing. (Free exploration)\\r\\n\\r\\nBudget Breakdown:\\r\\n\\r\\nTransportation (bus, etc.): 9,000 VND (bus fares for local travel)\\r\\nAttractions and activities: 315,000 VND\\r\\nMeals (local street food): 180,000 VND\\r\\nMiscellaneous (souvenirs, tips, etc.): 96,000 VND (to cover additional expenses)\\r\\nTotal: 600,000 VND (200,000 VND per person)', mimetype='text/plain', start_char_idx=0, end_char_idx=2265, text_template='{metadata_str}\\n\\n{content}', metadata_template='{key}: {value}', metadata_seperator='\\n'),\n",
       " TextNode(id_='0f0e20ff-6926-4252-ae45-a87c345e622c', embedding=None, metadata={'file_path': 'd:\\\\Projects\\\\nlp-bachelor\\\\llama3\\\\data\\\\info3.txt', 'file_name': 'info3.txt', 'file_type': 'text/plain', 'file_size': 3405, 'creation_date': '2024-07-20', 'last_modified_date': '2024-07-20'}, excluded_embed_metadata_keys=['file_name', 'file_type', 'file_size', 'creation_date', 'last_modified_date', 'last_accessed_date'], excluded_llm_metadata_keys=['file_name', 'file_type', 'file_size', 'creation_date', 'last_modified_date', 'last_accessed_date'], relationships={<NodeRelationship.SOURCE: '1'>: RelatedNodeInfo(node_id='c2096926-9fd7-4189-9529-83cef33e6fe1', node_type=<ObjectType.DOCUMENT: '4'>, metadata={'file_path': 'd:\\\\Projects\\\\nlp-bachelor\\\\llama3\\\\data\\\\info3.txt', 'file_name': 'info3.txt', 'file_type': 'text/plain', 'file_size': 3405, 'creation_date': '2024-07-20', 'last_modified_date': '2024-07-20'}, hash='66030de392c769de6b78109111857f834ed89732940c21b73fd64a9f1dc9d105')}, text='5-Day Travel Itinerary with a Budget of 300,000 VND per Person (Total: 1,200,000 VND for 4 People)\\r\\nDay 1:\\r\\n\\r\\nMorning:\\r\\n\\r\\nVietnam National University, Ho Chi Minh City - Tour the campus, museums, and buildings. (Free admission)\\r\\nNoon:\\r\\n\\r\\nHo Chi Minh City Museum of Fine Arts - Admire the art collections featuring Vietnamese art. (30,000 VND x 4 = 120,000 VND)\\r\\nLocal restaurant - Enjoy traditional Vietnamese cuisine for lunch. (Approx. 30,000 VND x 4 = 120,000 VND)\\r\\nAfternoon:\\r\\n\\r\\nIndependence Palace - Explore the history and architecture of this landmark. (65,000 VND x 4 = 260,000 VND)\\r\\nTran Hung Dao Temple - Light incense and enjoy the serene environment. (Free admission)\\r\\nEvening:\\r\\n\\r\\nNight streets around Independence Palace - Experience local nightlife and street scenes. (Free exploration)\\r\\nLocal restaurant - Enjoy affordable street food. (Approx. 30,000 VND x 4 = 120,000 VND)\\r\\nDay 2:\\r\\n\\r\\nMorning:\\r\\n\\r\\nCai Rang Floating Market - Experience the bustling market and local specialties. (50,000 VND x 4 = 200,000 VND)\\r\\nVisit Ong Pagoda - Appreciate the beautiful architecture and peaceful environment. (Free admission)\\r\\nNoon:\\r\\n\\r\\nRiverside eatery - Enjoy fresh local dishes for lunch. (Approx. 30,000 VND x 4 = 120,000 VND)\\r\\nAfternoon:\\r\\n\\r\\nBang Lang Stork Garden - Admire the graceful storks. (20,000 VND x 4 = 80,000 VND)\\r\\nBinh Thuy Ancient House - Learn about the historical architecture. (15,000 VND x 4 = 60,000 VND)\\r\\nEvening:\\r\\n\\r\\nLocal cultural activities - Engage with local traditions and culture. (Free exploration)\\r\\nDay 3:\\r\\n\\r\\nMorning:\\r\\n\\r\\nTruc Lam Zen Monastery in the South - Experience the tranquil atmosphere of the pagoda. (20,000 VND x 4 = 80,000 VND)\\r\\nCan Tho Museum - Learn about the local culture and history. (15,000 VND x 4 = 60,000 VND)\\r\\nNoon:\\r\\n\\r\\nLocal restaurant - Enjoy traditional cuisine. (Approx. 30,000 VND x 4 = 120,000 VND)\\r\\nAfternoon:\\r\\n\\r\\nLocal markets and streets - Immerse yourself in the local culture. (Free exploration)\\r\\nEvening:\\r\\n\\r\\nLocal cultural activities - Experience traditional performances or events. (Free exploration)\\r\\nDay 4:\\r\\n\\r\\nMorning:\\r\\n\\r\\nTtraditional craft villages on the outskirts of Can Tho - Discover local handicrafts and production processes. (Free exploration)\\r\\nNoon:\\r\\n\\r\\nRural restaurant - Enjoy rustic local dishes. (Approx. 30,000 VND x 4 = 120,000 VND)\\r\\nAfternoon:\\r\\n\\r\\nThe rice fields and fruit orchards in the suburbs - Experience the countryside and local agriculture. (Free exploration)\\r\\nReturn to the city - Rest and relax. (Free exploration)\\r\\nEvening:\\r\\n\\r\\nNight markets and streets - Enjoy the evening atmosphere. (Free exploration)\\r\\nDay 5:\\r\\n\\r\\nMorning:\\r\\n\\r\\nVisit any remaining attractions based on your interests - Explore more of the city or nearby areas. (Free exploration)\\r\\nDo last-minute shopping for local specialties - Pick up souvenirs. (Free exploration)\\r\\nNoon:\\r\\n\\r\\nLocal restaurant - Enjoy your last meal in the area. (Approx. 30,000 VND x 4 = 120,000 VND)\\r\\nAfternoon:\\r\\n\\r\\nReturn home - End of the trip. (Free exploration)\\r\\nBudget Breakdown:\\r\\n\\r\\nTransportation (bus, etc.): 12,000 VND\\r\\nAttractions and activities: 1,085,000 VND\\r\\nMeals (local restaurants): 660,000 VND\\r\\nMiscellaneous (souvenirs, tips, etc.): 3,000 VND (to cover additional expenses)\\r\\nTotal: 1,760,000 VND (440,000 VND per person)\\r\\n\\r\\nThis itinerary stays close to the original budget, though slightly exceeding it to provide a more realistic and enjoyable travel experience.', mimetype='text/plain', start_char_idx=0, end_char_idx=3405, text_template='{metadata_str}\\n\\n{content}', metadata_template='{key}: {value}', metadata_seperator='\\n')]"
      ]
     },
     "execution_count": 6,
     "metadata": {},
     "output_type": "execute_result"
    }
   ],
   "source": [
    "text_splitter = SentenceSplitter(chunk_size=1000, chunk_overlap=100)\n",
    "nodes = text_splitter.get_nodes_from_documents(documents=documents)\n",
    "nodes"
   ]
  },
  {
   "cell_type": "code",
   "execution_count": 7,
   "metadata": {},
   "outputs": [],
   "source": [
    "Settings.embed_model = HuggingFaceEmbedding(\n",
    "    model_name=\"BAAI/bge-small-en-v1.5\"\n",
    ")"
   ]
  },
  {
   "cell_type": "code",
   "execution_count": 37,
   "metadata": {},
   "outputs": [],
   "source": [
    "index = VectorStoreIndex.from_documents(documents)"
   ]
  },
  {
   "cell_type": "code",
   "execution_count": 38,
   "metadata": {},
   "outputs": [
    {
     "name": "stderr",
     "output_type": "stream",
     "text": [
      "c:\\Users\\ADMIN\\anaconda3\\Lib\\site-packages\\transformers\\generation\\configuration_utils.py:540: UserWarning: `do_sample` is set to `False`. However, `temperature` is set to `0.7` -- this flag is only used in sample-based generation modes. You should set `do_sample=True` or unset `temperature`.\n",
      "  warnings.warn(\n",
      "c:\\Users\\ADMIN\\anaconda3\\Lib\\site-packages\\transformers\\generation\\configuration_utils.py:545: UserWarning: `do_sample` is set to `False`. However, `top_p` is set to `0.95` -- this flag is only used in sample-based generation modes. You should set `do_sample=True` or unset `top_p`.\n",
      "  warnings.warn(\n",
      "Setting `pad_token_id` to `eos_token_id`:2 for open-end generation.\n"
     ]
    }
   ],
   "source": [
    "query_engine = index.as_query_engine()\n",
    "response = query_engine.query(\"What are some ideal places for me to visit in the morning at Ho Chi Minh city.\")\n",
    "print(response)"
   ]
  }
 ],
 "metadata": {
  "kernelspec": {
   "display_name": "base",
   "language": "python",
   "name": "python3"
  },
  "language_info": {
   "codemirror_mode": {
    "name": "ipython",
    "version": 3
   },
   "file_extension": ".py",
   "mimetype": "text/x-python",
   "name": "python",
   "nbconvert_exporter": "python",
   "pygments_lexer": "ipython3",
   "version": "3.12.4"
  }
 },
 "nbformat": 4,
 "nbformat_minor": 2
}
