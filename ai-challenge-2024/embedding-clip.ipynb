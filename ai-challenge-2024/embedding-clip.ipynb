{
 "cells": [
  {
   "cell_type": "code",
   "execution_count": 1,
   "metadata": {},
   "outputs": [],
   "source": [
    "import os\n",
    "import chromadb\n",
    "import numpy as np\n",
    "from tqdm import tqdm\n",
    "from PIL import Image\n",
    "import matplotlib.pyplot as plt\n",
    "from chromadb.utils.embedding_functions import OpenCLIPEmbeddingFunction\n",
    "\n",
    "ROOT = 'data'\n",
    "CLASS_NAME = sorted(list(os.listdir(f'{ROOT}/train')))\n",
    "HNSW_SPACE = \"hnsw:space\"\n",
    "\n",
    "def get_files_path(path):\n",
    "    files_path = []\n",
    "\n",
    "    for label in CLASS_NAME:\n",
    "        label_path = path + \"/\" + label\n",
    "        filenames = os.listdir(label_path)\n",
    "\n",
    "        for filename in filenames:\n",
    "            filepath = label_path + '/' + filename\n",
    "            files_path.append(filepath)\n",
    "    return files_path\n",
    "\n",
    "def plot_results(query_path, ls_path_score, reverse):\n",
    "    query_image = Image.open(query_path).resize((256, 256))\n",
    "    images = [query_image]\n",
    "    class_name = []\n",
    "\n",
    "    for id_img in results['ids'][0]:\n",
    "        id_img = int(id_img.split('_')[-1])\n",
    "        img_path = files_path[id_img]\n",
    "        img = Image.open(img_path).resize((256, 256))\n",
    "        images.append(img)\n",
    "        class_name.append(img_path.split('/')[2])\n",
    "\n",
    "    fig, axes = plt.subplots(2, 3)\n",
    "\n",
    "    for i, ax in enumerate(axes.flat):\n",
    "        ax.imshow(images[i])\n",
    "        if i == 0:\n",
    "            ax.set_title(f\"Query Image: {query_path.split('/')[2]}\")\n",
    "        else:\n",
    "            ax.set_title(f\"Top {i+1}: {class_name[i-1]}\")\n",
    "        ax.axis('off')\n",
    "    plt.show()"
   ]
  },
  {
   "cell_type": "code",
   "execution_count": 2,
   "metadata": {},
   "outputs": [],
   "source": [
    "data_path = f'{ROOT}/train'\n",
    "files_path = get_files_path(path=data_path)"
   ]
  },
  {
   "cell_type": "code",
   "execution_count": 3,
   "metadata": {},
   "outputs": [
    {
     "name": "stderr",
     "output_type": "stream",
     "text": [
      "c:\\Users\\ADMIN\\anaconda3\\Lib\\site-packages\\open_clip\\factory.py:129: FutureWarning: You are using `torch.load` with `weights_only=False` (the current default value), which uses the default pickle module implicitly. It is possible to construct malicious pickle data which will execute arbitrary code during unpickling (See https://github.com/pytorch/pytorch/blob/main/SECURITY.md#untrusted-models for more details). In a future release, the default value for `weights_only` will be flipped to `True`. This limits the functions that could be executed during unpickling. Arbitrary objects will no longer be allowed to be loaded via this mode unless they are explicitly allowlisted by the user via `torch.serialization.add_safe_globals`. We recommend you start setting `weights_only=True` for any use case where you don't have full control of the loaded file. Please open an issue on GitHub for any issues related to this experimental feature.\n",
      "  checkpoint = torch.load(checkpoint_path, map_location=map_location)\n"
     ]
    }
   ],
   "source": [
    "embedding_function = OpenCLIPEmbeddingFunction()\n",
    "\n",
    "def get_single_image_embedding(image):\n",
    "    embedding = embedding_function._encode_image(image=np.array(image))\n",
    "    return embedding"
   ]
  },
  {
   "cell_type": "code",
   "execution_count": null,
   "metadata": {},
   "outputs": [],
   "source": [
    "def add_embedding(collection, files_path):\n",
    "    ids = []\n",
    "    embeddings = []\n",
    "\n",
    "    for id_filepath, filepath in tqdm(enumerate(files_path)):\n",
    "        ids.append(f'id_{id_filepath}')\n",
    "        image = Image.open(filepath)\n",
    "        embedding = get_single_image_embedding(image=image)\n",
    "        embeddings.append(embedding)\n",
    "    collection.add(embeddings=embeddings, ids=ids)\n",
    "\n",
    "chroma_client = chromadb.Client()\n",
    "l2_collection = chroma_client.get_or_create_collection(name=\"l2_collection\", metadata={HNSW_SPACE: \"l2\"})\n",
    "add_embedding(collection=l2_collection, files_path=files_path)"
   ]
  },
  {
   "cell_type": "code",
   "execution_count": null,
   "metadata": {},
   "outputs": [],
   "source": [
    "def search(image_path, collection, n_results):\n",
    "    query_image = Image.open(image_path)\n",
    "    query_embedding = get_single_image_embedding(query_image)\n",
    "    results = collection.query(\n",
    "        query_embeddings=[query_embedding],\n",
    "        n_results=n_results\n",
    "    )\n",
    "    return results"
   ]
  },
  {
   "cell_type": "code",
   "execution_count": null,
   "metadata": {},
   "outputs": [],
   "source": [
    "test_path = f'{ROOT}/test'\n",
    "test_files_path = get_files_path(path=test_path)\n",
    "test_path = test_files_path[1]\n",
    "l2_results = search(image_path=test_path, collection=l2_collection, n_results=5)"
   ]
  },
  {
   "cell_type": "code",
   "execution_count": null,
   "metadata": {},
   "outputs": [],
   "source": [
    "plot_results(query_path=test_path, files_path=files_path, results=l2_results)"
   ]
  }
 ],
 "metadata": {
  "kernelspec": {
   "display_name": "base",
   "language": "python",
   "name": "python3"
  },
  "language_info": {
   "codemirror_mode": {
    "name": "ipython",
    "version": 3
   },
   "file_extension": ".py",
   "mimetype": "text/x-python",
   "name": "python",
   "nbconvert_exporter": "python",
   "pygments_lexer": "ipython3",
   "version": "3.11.9"
  }
 },
 "nbformat": 4,
 "nbformat_minor": 2
}
