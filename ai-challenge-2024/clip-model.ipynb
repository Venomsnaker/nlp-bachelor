{
 "cells": [
  {
   "cell_type": "code",
   "execution_count": 1,
   "metadata": {},
   "outputs": [],
   "source": [
    "from PIL import Image, ImageFile\n",
    "\n",
    "def load_image(path):\n",
    "    return Image.open(path)\n",
    "\n",
    "img_paths = [\n",
    "    \"data/train/African_crocodile/n01697457_85.JPEG\", # crocodile\n",
    "    \"data/train/bullet_train/n02917067_1400.JPEG\", # bullet train\n",
    "    \"data/train/comic_book/n06596364_3314.JPEG\" # comic books \n",
    "]\n",
    "\n",
    "images = [load_image(img) for img in img_paths]"
   ]
  },
  {
   "cell_type": "code",
   "execution_count": 2,
   "metadata": {},
   "outputs": [
    {
     "name": "stderr",
     "output_type": "stream",
     "text": [
      "c:\\Users\\ADMIN\\anaconda3\\Lib\\site-packages\\sentence_transformers\\cross_encoder\\CrossEncoder.py:11: TqdmExperimentalWarning: Using `tqdm.autonotebook.tqdm` in notebook mode. Use `tqdm.tqdm` instead to force console mode (e.g. in jupyter console)\n",
      "  from tqdm.autonotebook import tqdm, trange\n"
     ]
    },
    {
     "name": "stdout",
     "output_type": "stream",
     "text": [
      "WARNING:tensorflow:From c:\\Users\\ADMIN\\anaconda3\\Lib\\site-packages\\tf_keras\\src\\losses.py:2976: The name tf.losses.sparse_softmax_cross_entropy is deprecated. Please use tf.compat.v1.losses.sparse_softmax_cross_entropy instead.\n",
      "\n"
     ]
    },
    {
     "name": "stderr",
     "output_type": "stream",
     "text": [
      "c:\\Users\\ADMIN\\anaconda3\\Lib\\site-packages\\transformers\\tokenization_utils_base.py:1601: FutureWarning: `clean_up_tokenization_spaces` was not set. It will be set to `True` by default. This behavior will be depracted in transformers v4.45, and will be then set to `False` by default. For more details check this issue: https://github.com/huggingface/transformers/issues/31884\n",
      "  warnings.warn(\n"
     ]
    },
    {
     "name": "stdout",
     "output_type": "stream",
     "text": [
      "Text: a crocodile\n",
      "Score: tensor(0.3052)\n",
      "Path: data/train/African_crocodile/n01697457_85.JPEG \n",
      "\n",
      "Text: a bullet train\n",
      "Score: tensor(0.2593)\n",
      "Path: data/train/bullet_train/n02917067_1400.JPEG \n",
      "\n",
      "Text: comic books.\n",
      "Score: tensor(0.2993)\n",
      "Path: data/train/comic_book/n06596364_3314.JPEG \n",
      "\n"
     ]
    }
   ],
   "source": [
    "from sentence_transformers import SentenceTransformer, util\n",
    "from PIL import Image, ImageFile\n",
    "import requests\n",
    "import torch\n",
    "\n",
    "img_model = SentenceTransformer('clip-ViT-B-32')\n",
    "text_model = SentenceTransformer('sentence-transformers/clip-ViT-B-32-multilingual-v1')\n",
    "img_embeddings = img_model.encode(images)\n",
    "\n",
    "texts = [\n",
    "    \"a crocodile\",\n",
    "    \"a bullet train\",\n",
    "    \"comic books.\"\n",
    "]\n",
    "\n",
    "text_embeddings = text_model.encode(texts)\n",
    "cos_sim = util.cos_sim(text_embeddings, img_embeddings)\n",
    "\n",
    "for text, scores in zip(texts, cos_sim):\n",
    "    max_img_idx = torch.argmax(scores)\n",
    "    print(\"Text:\", text)\n",
    "    print(\"Score:\", scores[max_img_idx] )\n",
    "    print(\"Path:\", img_paths[max_img_idx], \"\\n\")"
   ]
  }
 ],
 "metadata": {
  "kernelspec": {
   "display_name": "base",
   "language": "python",
   "name": "python3"
  },
  "language_info": {
   "codemirror_mode": {
    "name": "ipython",
    "version": 3
   },
   "file_extension": ".py",
   "mimetype": "text/x-python",
   "name": "python",
   "nbconvert_exporter": "python",
   "pygments_lexer": "ipython3",
   "version": "3.11.9"
  }
 },
 "nbformat": 4,
 "nbformat_minor": 2
}
