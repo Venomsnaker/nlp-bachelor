{
 "cells": [
  {
   "cell_type": "code",
   "execution_count": 1,
   "metadata": {},
   "outputs": [],
   "source": [
    "import os\n",
    "import warnings\n",
    "warnings.filterwarnings(\"ignore\")\n",
    "from dotenv import load_dotenv\n",
    "\n",
    "access_key_name = \"ACCESS_KEY\"\n",
    "secret_key_name = \"SECRET_KEY\"\n",
    "\n",
    "def load_env():\n",
    "    load_dotenv()\n",
    "    return os.environ.get(access_key_name), os.environ.get(secret_key_name)\n",
    "access_key, secret_key = load_env()"
   ]
  },
  {
   "cell_type": "code",
   "execution_count": null,
   "metadata": {},
   "outputs": [],
   "source": [
    "import boto3\n",
    "import os\n",
    "\n",
    "buclet_name = 'ai-challenge-2024'\n",
    "prefix = 'keyframes/'\n",
    "s3 = boto3.client('s3', aws_access_key_id=access_key, aws_secret_access_key=secret_key, region_name='ap-southeast-1')\n",
    "bucket_name = 'ai-challenge-2024'\n",
    "folder_name = 'embeddings_extra/'\n",
    "local_dir = 'data/embeddings/'\n",
    "\n",
    "if not os.path.exists(local_dir):\n",
    "    os.makedirs(local_dir)\n",
    "\n",
    "objects = s3.list_objects_v2(Bucket=bucket_name, Prefix=folder_name)\n",
    "\n",
    "for obj in objects.get('Contents', []):\n",
    "    file_name = obj['Key']\n",
    "\n",
    "    if file_name.endswith('/'):\n",
    "        continue\n",
    "    local_file_path = os.path.join(local_dir, file_name.split('/')[-1])\n",
    "    \n",
    "    s3.download_file(bucket_name, file_name, local_file_path)\n",
    "    print(f\"Downloaded: {file_name} -> {local_file_path}\")"
   ]
  }
 ],
 "metadata": {
  "kernelspec": {
   "display_name": "base",
   "language": "python",
   "name": "python3"
  },
  "language_info": {
   "codemirror_mode": {
    "name": "ipython",
    "version": 3
   },
   "file_extension": ".py",
   "mimetype": "text/x-python",
   "name": "python",
   "nbconvert_exporter": "python",
   "pygments_lexer": "ipython3",
   "version": "3.11.9"
  }
 },
 "nbformat": 4,
 "nbformat_minor": 2
}
