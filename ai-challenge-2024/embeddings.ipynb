{
 "cells": [
  {
   "cell_type": "code",
   "execution_count": 1,
   "metadata": {},
   "outputs": [],
   "source": [
    "import os\n",
    "import numpy as np\n",
    "from PIL import Image\n",
    "import matplotlib.pyplot as plt\n",
    "\n",
    "ROOT = 'data'\n",
    "CLASS_NAME = sorted(list(os.listdir(f'{ROOT}/train')))\n",
    "\n",
    "def read_image_from_path(path, size):\n",
    "    img = Image.open(path).convert('RGB').resize(size)\n",
    "    return np.array(img)\n",
    "\n",
    "def folder_to_images(folder, size):\n",
    "    list_dir = [folder + '/' + name for name in os.listdir(folder)]\n",
    "    images_np = np.zeros(shape=(len(list_dir), *size, 3))\n",
    "    images_path = []\n",
    "\n",
    "    for i, path in enumerate(list_dir):\n",
    "        images_np[i] = read_image_from_path(path, size)\n",
    "        images_path.append(path)\n",
    "    images_path = np.array(images_path)\n",
    "    return images_np, images_path\n",
    "\n",
    "def plot_results(query_path, ls_path_score, reverse):\n",
    "    fig = plt.figure()\n",
    "    fig.add_subplot(2, 2, 1)\n",
    "    plt.imshow(read_image_from_path(query_path, size=(256, 256)))\n",
    "    plt.title(f\"Query Image: {query_path.split('/')[2]}\")\n",
    "    plt.axis(\"off\")\n",
    "\n",
    "    for i, path in enumerate(sorted(ls_path_score, key=lambda x: x[1], reverse=reverse)[:3], 2):\n",
    "        fig.add_subplot(2, 2, i)\n",
    "        plt.imshow(read_image_from_path(path[0], size=(256, 256)))\n",
    "        plt.title(f\"Top {i-1}: {path[0].split('/')[2]}\")\n",
    "        plt.axis(\"off\")\n",
    "    plt.show()"
   ]
  },
  {
   "cell_type": "markdown",
   "metadata": {},
   "source": [
    "#### Absolute Difference"
   ]
  },
  {
   "cell_type": "code",
   "execution_count": 2,
   "metadata": {},
   "outputs": [],
   "source": [
    "def absolute_difference(query, data):\n",
    "    axis_batch_size = tuple(range(1, len(data.shape)))\n",
    "    return np.sum(np.abs(data - query), axis=axis_batch_size)\n",
    "\n",
    "def mean_square_difference(query, data):\n",
    "    axis_batch_size = tuple(range(1,len(data.shape)))\n",
    "    return np.mean((data - query)**2, axis=axis_batch_size)\n",
    "\n",
    "def cosine_similarity(query, data):\n",
    "    axis_batch_size = tuple(range(1, len(data.shape)))\n",
    "    query_norm = np.sqrt(np.sum(query**2))\n",
    "    data_norm = np.sqrt(np.sum(data**2, axis=axis_batch_size))\n",
    "    return np.sum(data * query, axis=axis_batch_size) / (query_norm * data_norm + np.finfo(float).eps)\n",
    "\n",
    "def correlation_coefficient(query, data):\n",
    "    axis_batch_size = tuple(range(1, len(data.shape)))\n",
    "    query_mean = query - np.mean(query)\n",
    "    data_mean = data - np.mean(data, axis=axis_batch_size, keepdims=True)\n",
    "    query_norm = np.sqrt(np.sum(query_mean**2))\n",
    "    data_norm = np.sqrt(np.sum(data_mean**2, axis=axis_batch_size))\n",
    "    return np.sum(data_mean * query_mean, axis=axis_batch_size) / (query_norm*data_norm + np.finfo(float).eps)"
   ]
  },
  {
   "cell_type": "code",
   "execution_count": 3,
   "metadata": {},
   "outputs": [],
   "source": [
    "def get_ls_score(root_img_path, query_path, size, metric):\n",
    "    query = read_image_from_path(query_path, size)\n",
    "    ls_path_score = []\n",
    "\n",
    "    for folder in os.listdir(root_img_path):\n",
    "        if folder in CLASS_NAME:\n",
    "            path = root_img_path + folder\n",
    "            images_np, images_path = folder_to_images(path, size)\n",
    "            rates = metric(query, images_np)\n",
    "            ls_path_score.extend(list(zip(images_path, rates)))\n",
    "    return query, ls_path_score"
   ]
  },
  {
   "cell_type": "code",
   "execution_count": null,
   "metadata": {},
   "outputs": [],
   "source": [
    "root_img_path = f\"{ROOT}/train/\"\n",
    "query_path = f\"{ROOT}/test/Orange_easy/0_100.jpg\"\n",
    "size = (256, 256)\n",
    "query, ls_path_score = get_ls_score(root_img_path, query_path, size, absolute_difference)\n",
    "plot_results(query_path, ls_path_score, reverse=False)"
   ]
  },
  {
   "cell_type": "code",
   "execution_count": null,
   "metadata": {},
   "outputs": [],
   "source": [
    "query, ls_path_score = get_ls_score(root_img_path, query_path, size, mean_square_difference)\n",
    "plot_results(query_path, ls_path_score, reverse=False)"
   ]
  },
  {
   "cell_type": "code",
   "execution_count": null,
   "metadata": {},
   "outputs": [],
   "source": [
    "query, ls_path_score = get_ls_score(root_img_path, query_path, size, cosine_similarity)\n",
    "plot_results(query_path, ls_path_score, reverse=True)"
   ]
  },
  {
   "cell_type": "code",
   "execution_count": null,
   "metadata": {},
   "outputs": [],
   "source": [
    "query, ls_path_score = get_ls_score(root_img_path, query_path, size, correlation_coefficient)\n",
    "plot_results(query_path, ls_path_score, reverse=True)"
   ]
  }
 ],
 "metadata": {
  "kernelspec": {
   "display_name": "base",
   "language": "python",
   "name": "python3"
  },
  "language_info": {
   "codemirror_mode": {
    "name": "ipython",
    "version": 3
   },
   "file_extension": ".py",
   "mimetype": "text/x-python",
   "name": "python",
   "nbconvert_exporter": "python",
   "pygments_lexer": "ipython3",
   "version": "3.11.9"
  }
 },
 "nbformat": 4,
 "nbformat_minor": 2
}
