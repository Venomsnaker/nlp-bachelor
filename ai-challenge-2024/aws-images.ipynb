{
 "cells": [
  {
   "cell_type": "code",
   "execution_count": 2,
   "metadata": {},
   "outputs": [],
   "source": [
    "import os\n",
    "import warnings\n",
    "warnings.filterwarnings(\"ignore\")\n",
    "from dotenv import load_dotenv\n",
    "\n",
    "access_key_name = \"ACCESS_KEY\"\n",
    "secret_key_name = \"SECRET_KEY\"\n",
    "\n",
    "def load_env():\n",
    "    load_dotenv()\n",
    "    return os.environ.get(access_key_name), os.environ.get(secret_key_name)\n",
    "\n",
    "access_key, secret_key = load_env()\n",
    "buclet_name = 'ai-challenge-2024'\n",
    "prefix = 'keyframes/'\n"
   ]
  },
  {
   "cell_type": "code",
   "execution_count": 3,
   "metadata": {},
   "outputs": [],
   "source": [
    "import boto3\n",
    "\n",
    "s3 = boto3.client('s3', aws_access_key_id=access_key, aws_secret_access_key=secret_key, region_name='ap-southeast-1')\n",
    "response = s3.list_objects_v2(Bucket=buclet_name, Prefix=prefix, Delimiter='/')\n",
    "folders = [x['Prefix'] for x in response.get('CommonPrefixes')]\n"
   ]
  },
  {
   "cell_type": "code",
   "execution_count": null,
   "metadata": {},
   "outputs": [],
   "source": [
    "import matplotlib.pyplot as plt\n",
    "import io\n",
    "from PIL import Image\n",
    "\n",
    "response = s3.get_object(Bucket=buclet_name, Key='keyframes/L01_V001/001.jpg')\n",
    "image = response['Body'].read()\n",
    "img = Image.open(io.BytesIO(image))\n",
    "plt.imshow(img)"
   ]
  }
 ],
 "metadata": {
  "kernelspec": {
   "display_name": "Python 3",
   "language": "python",
   "name": "python3"
  },
  "language_info": {
   "codemirror_mode": {
    "name": "ipython",
    "version": 3
   },
   "file_extension": ".py",
   "mimetype": "text/x-python",
   "name": "python",
   "nbconvert_exporter": "python",
   "pygments_lexer": "ipython3",
   "version": "3.11.9"
  }
 },
 "nbformat": 4,
 "nbformat_minor": 2
}
