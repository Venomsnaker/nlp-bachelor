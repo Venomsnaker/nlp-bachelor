{
 "cells": [
  {
   "cell_type": "code",
   "execution_count": 1,
   "metadata": {},
   "outputs": [
    {
     "name": "stderr",
     "output_type": "stream",
     "text": [
      "c:\\Users\\ADMIN\\anaconda3\\Lib\\site-packages\\sentence_transformers\\cross_encoder\\CrossEncoder.py:11: TqdmExperimentalWarning: Using `tqdm.autonotebook.tqdm` in notebook mode. Use `tqdm.tqdm` instead to force console mode (e.g. in jupyter console)\n",
      "  from tqdm.autonotebook import tqdm, trange\n"
     ]
    },
    {
     "name": "stdout",
     "output_type": "stream",
     "text": [
      "WARNING:tensorflow:From c:\\Users\\ADMIN\\anaconda3\\Lib\\site-packages\\tf_keras\\src\\losses.py:2976: The name tf.losses.sparse_softmax_cross_entropy is deprecated. Please use tf.compat.v1.losses.sparse_softmax_cross_entropy instead.\n",
      "\n"
     ]
    },
    {
     "name": "stderr",
     "output_type": "stream",
     "text": [
      "c:\\Users\\ADMIN\\anaconda3\\Lib\\site-packages\\transformers\\tokenization_utils_base.py:1601: FutureWarning: `clean_up_tokenization_spaces` was not set. It will be set to `True` by default. This behavior will be depracted in transformers v4.45, and will be then set to `False` by default. For more details check this issue: https://github.com/huggingface/transformers/issues/31884\n",
      "  warnings.warn(\n"
     ]
    }
   ],
   "source": [
    "from sentence_transformers import SentenceTransformer, util\n",
    "import numpy as np\n",
    "from pathlib import Path\n",
    "\n",
    "img_model = SentenceTransformer('clip-ViT-B-32')\n",
    "text_model = SentenceTransformer('sentence-transformers/clip-ViT-B-32-multilingual-v1')\n",
    "\n",
    "def load_clip_features(folder_path):\n",
    "    embeddings = {}\n",
    "    embeddings_map = {}\n",
    "    i = 0\n",
    "\n",
    "    for file in Path(folder_path).glob('*.npy'):\n",
    "        embedding = np.load(str(file))\n",
    "        embeddings[i] = embedding\n",
    "        embeddings_map[i] = str(file)\n",
    "        i += 1\n",
    "    return embeddings, embeddings_map"
   ]
  },
  {
   "cell_type": "code",
   "execution_count": 2,
   "metadata": {},
   "outputs": [],
   "source": [
    "folder_path = 'data\\clip-features-32'\n",
    "embeddings, embeddings_map = load_clip_features(folder_path)"
   ]
  },
  {
   "cell_type": "code",
   "execution_count": 3,
   "metadata": {},
   "outputs": [],
   "source": [
    "import numpy as np\n",
    "import pandas as pd\n",
    "import os\n",
    "\n",
    "def load_keyframes_map(folder_path):\n",
    "    keyframes_map = {}\n",
    "\n",
    "    for file in Path(folder_path).glob('*.csv'):\n",
    "        df = pd.read_csv(file, index_col=None, header=0)\n",
    "        file = os.path.basename(file)\n",
    "        base, extension = os.path.splitext(file)\n",
    "        keyframes_map[base] = df\n",
    "    return keyframes_map"
   ]
  },
  {
   "cell_type": "code",
   "execution_count": 4,
   "metadata": {},
   "outputs": [],
   "source": [
    "folder_path = 'data\\map-keyframes'\n",
    "keyframes_map = load_keyframes_map(folder_path)"
   ]
  },
  {
   "cell_type": "code",
   "execution_count": 5,
   "metadata": {},
   "outputs": [
    {
     "name": "stdout",
     "output_type": "stream",
     "text": [
      "0.3046875  -  L01_V021\n",
      "     n  pts_time   fps  frame_idx\n",
      "64  65    223.24  25.0       5581\n",
      "0.359619140625  -  L02_V011\n",
      "     n  pts_time   fps  frame_idx\n",
      "77  78    305.76  25.0       7644\n",
      "0.288330078125  -  L10_V007\n",
      "       n  pts_time   fps  frame_idx\n",
      "267  268     967.4  25.0      24185\n"
     ]
    }
   ],
   "source": [
    "from sentence_transformers import SentenceTransformer, util\n",
    "from PIL import Image, ImageFile\n",
    "import requests\n",
    "import torch\n",
    "import os\n",
    "\n",
    "texts = [\"A big pink fish figure with together with many other fish figures\",\n",
    "         \"A doctor holding the patient hand, the doctor is wearing a black watch, the patient has white cloth wrap around an arm\",\n",
    "         \"Big eye\"]\n",
    "\n",
    "for text in texts:\n",
    "    text_embedding = text_model.encode(text);\n",
    "    text_embedding = text_embedding.astype(np.float16)\n",
    "    max_score = 0\n",
    "    max_score_video_idx = 0\n",
    "    max_score_keyframe_idx = 0\n",
    "\n",
    "    for i in range(0, len(embeddings)):\n",
    "        score = util.cos_sim(text_embedding, embeddings[i])\n",
    "        max_img_idx = torch.argmax(score)\n",
    "\n",
    "        if (max_score < score[0][max_img_idx].item()):\n",
    "            max_score = score[0][max_img_idx].item()\n",
    "            max_score_video_idx = i\n",
    "            max_score_keyframe_idx = max_img_idx.item()\n",
    "    \n",
    "    file = os.path.basename(embeddings_map[max_score_video_idx])\n",
    "    base, extension = os.path.splitext(file)\n",
    "    print(max_score, \" - \", base)\n",
    "    print(keyframes_map[base].loc[keyframes_map[base]['n'] == max_score_keyframe_idx + 1])"
   ]
  },
  {
   "cell_type": "markdown",
   "metadata": {},
   "source": []
  }
 ],
 "metadata": {
  "kernelspec": {
   "display_name": "base",
   "language": "python",
   "name": "python3"
  },
  "language_info": {
   "codemirror_mode": {
    "name": "ipython",
    "version": 3
   },
   "file_extension": ".py",
   "mimetype": "text/x-python",
   "name": "python",
   "nbconvert_exporter": "python",
   "pygments_lexer": "ipython3",
   "version": "3.11.9"
  }
 },
 "nbformat": 4,
 "nbformat_minor": 2
}
