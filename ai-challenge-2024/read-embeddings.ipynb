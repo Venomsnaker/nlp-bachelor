{
 "cells": [
  {
   "cell_type": "code",
   "execution_count": 31,
   "metadata": {},
   "outputs": [
    {
     "name": "stderr",
     "output_type": "stream",
     "text": [
      "c:\\Users\\ADMIN\\anaconda3\\Lib\\site-packages\\transformers\\tokenization_utils_base.py:1601: FutureWarning: `clean_up_tokenization_spaces` was not set. It will be set to `True` by default. This behavior will be depracted in transformers v4.45, and will be then set to `False` by default. For more details check this issue: https://github.com/huggingface/transformers/issues/31884\n",
      "  warnings.warn(\n"
     ]
    }
   ],
   "source": [
    "from pathlib import Path\n",
    "from transformers import AutoTokenizer, AutoModelForSeq2SeqLM\n",
    "import os\n",
    "\n",
    "folder_path = \"data/pack-pretest\"\n",
    "\n",
    "def load_query(folder_path):\n",
    "    queries = []\n",
    "\n",
    "    # Set up translation model\n",
    "    model_name = \"VietAI/envit5-translation\"\n",
    "    tokenizer = AutoTokenizer.from_pretrained(model_name)  \n",
    "    model = AutoModelForSeq2SeqLM.from_pretrained(model_name)\n",
    "    model = model.to('cuda')\n",
    "\n",
    "    for file in Path(folder_path).glob('*.txt'):\n",
    "        with open(file, \"r\") as file:\n",
    "            # Get query text\n",
    "            text = \"\".join(file.read().splitlines())\n",
    "            model_output = model.generate(tokenizer(text, return_tensors=\"pt\", padding=True).input_ids.to('cuda'), max_length=1024)\n",
    "            text_en = tokenizer.batch_decode(model_output, skip_special_tokens=True)[0]\n",
    "            text_en = text_en.replace(\"en: \", \"\")\n",
    "\n",
    "            # Get query type\n",
    "            file_name = os.path.basename(file.name)\n",
    "            base, extension = os.path.splitext(file_name)\n",
    "            query_type = base.split(\"-\")[-1]\n",
    "            \n",
    "            queries.append([text_en, query_type])\n",
    "    return queries\n",
    "queries = load_query(folder_path)"
   ]
  },
  {
   "cell_type": "code",
   "execution_count": 36,
   "metadata": {},
   "outputs": [
    {
     "name": "stdout",
     "output_type": "stream",
     "text": [
      "6\n",
      "['A black, ice-powered boat. The boat is powered by a propeller engine that blows out the back from above. The boat is a rescue vehicle for a victim who fell into an icy lake.', 'kis']\n"
     ]
    }
   ],
   "source": [
    "print(len(queries))\n",
    "print(queries[0])"
   ]
  },
  {
   "cell_type": "code",
   "execution_count": 37,
   "metadata": {},
   "outputs": [
    {
     "name": "stdout",
     "output_type": "stream",
     "text": [
      "WARNING:tensorflow:From c:\\Users\\ADMIN\\anaconda3\\Lib\\site-packages\\tf_keras\\src\\losses.py:2976: The name tf.losses.sparse_softmax_cross_entropy is deprecated. Please use tf.compat.v1.losses.sparse_softmax_cross_entropy instead.\n",
      "\n"
     ]
    },
    {
     "name": "stderr",
     "output_type": "stream",
     "text": [
      "c:\\Users\\ADMIN\\anaconda3\\Lib\\site-packages\\transformers\\tokenization_utils_base.py:1601: FutureWarning: `clean_up_tokenization_spaces` was not set. It will be set to `True` by default. This behavior will be depracted in transformers v4.45, and will be then set to `False` by default. For more details check this issue: https://github.com/huggingface/transformers/issues/31884\n",
      "  warnings.warn(\n"
     ]
    }
   ],
   "source": [
    "from sentence_transformers import SentenceTransformer, util\n",
    "import numpy as np\n",
    "from pathlib import Path\n",
    "\n",
    "img_model = SentenceTransformer('clip-ViT-B-32')\n",
    "text_model = SentenceTransformer('sentence-transformers/clip-ViT-B-32-multilingual-v1')\n",
    "\n",
    "def load_clip_features(folder_path):\n",
    "    embeddings = {}\n",
    "    embeddings_map = {}\n",
    "    i = 0\n",
    "\n",
    "    for file in Path(folder_path).glob('*.npy'):\n",
    "        embedding = np.load(str(file))\n",
    "        embeddings[i] = embedding\n",
    "        embeddings_map[i] = str(file)\n",
    "        i += 1\n",
    "    return embeddings, embeddings_map"
   ]
  },
  {
   "cell_type": "code",
   "execution_count": 38,
   "metadata": {},
   "outputs": [],
   "source": [
    "folder_path = 'data\\clip-features-32'\n",
    "embeddings, embeddings_map = load_clip_features(folder_path)"
   ]
  },
  {
   "cell_type": "code",
   "execution_count": 39,
   "metadata": {},
   "outputs": [
    {
     "name": "stdout",
     "output_type": "stream",
     "text": [
      "363\n",
      "363\n"
     ]
    }
   ],
   "source": [
    "print(len(embeddings))\n",
    "print(len(embeddings_map))"
   ]
  },
  {
   "cell_type": "code",
   "execution_count": 45,
   "metadata": {},
   "outputs": [],
   "source": [
    "import numpy as np\n",
    "import pandas as pd\n",
    "import os\n",
    "\n",
    "def load_keyframes_map(folder_path):\n",
    "    keyframes_map = {}\n",
    "\n",
    "    for file in Path(folder_path).glob('*.csv'):\n",
    "        df = pd.read_csv(file, index_col=None, header=0)\n",
    "        file = os.path.basename(file)\n",
    "        base, extension = os.path.splitext(file)\n",
    "        keyframes_map[base] = df\n",
    "    return keyframes_map"
   ]
  },
  {
   "cell_type": "code",
   "execution_count": 46,
   "metadata": {},
   "outputs": [],
   "source": [
    "folder_path = 'data\\map-keyframes'\n",
    "keyframes_map = load_keyframes_map(folder_path)"
   ]
  },
  {
   "cell_type": "code",
   "execution_count": 54,
   "metadata": {},
   "outputs": [
    {
     "name": "stdout",
     "output_type": "stream",
     "text": [
      "0.334716796875  -  L09_V017\n",
      "       n  pts_time   fps  frame_idx\n",
      "206  207     860.4  25.0      21510\n",
      "0.31103515625  -  L05_V029\n",
      "       n  pts_time   fps  frame_idx\n",
      "175  176     755.0  25.0      18875\n",
      "0.303466796875  -  L02_V031\n",
      "       n  pts_time   fps  frame_idx\n",
      "116  117    410.88  25.0      10272\n"
     ]
    }
   ],
   "source": [
    "from sentence_transformers import SentenceTransformer, util\n",
    "from PIL import Image, ImageFile\n",
    "import requests\n",
    "import torch\n",
    "import os\n",
    "\n",
    "for query in queries:\n",
    "    query_text = query[0]\n",
    "    query_type = query[1]\n",
    "\n",
    "    if (query_type == 'kis'):    \n",
    "        text_embedding = text_model.encode(query_text);\n",
    "        text_embedding = text_embedding.astype(np.float16)\n",
    "        max_score = 0\n",
    "        max_score_video_idx = 0\n",
    "        max_score_keyframe_idx = 0\n",
    "\n",
    "        for i in range(0, len(embeddings)):\n",
    "            score = util.cos_sim(text_embedding, embeddings[i])\n",
    "            max_img_idx = torch.argmax(score)\n",
    "\n",
    "            if (max_score < score[0][max_img_idx].item()):\n",
    "                max_score = score[0][max_img_idx].item()\n",
    "                max_score_video_idx = i\n",
    "                max_score_keyframe_idx = max_img_idx.item()\n",
    "        \n",
    "        file = os.path.basename(embeddings_map[max_score_video_idx])\n",
    "        base, extension = os.path.splitext(file)\n",
    "        print(max_score, \" - \", base)\n",
    "        print(keyframes_map[base].loc[keyframes_map[base]['n'] == max_score_keyframe_idx + 1])"
   ]
  },
  {
   "cell_type": "code",
   "execution_count": null,
   "metadata": {},
   "outputs": [],
   "source": [
    "from sentence_transformers import SentenceTransformer, util\n",
    "from PIL import Image, ImageFile\n",
    "import requests\n",
    "import torch\n",
    "import os\n",
    "\n",
    "texts = [\"A big pink fish figure with together with many other fish figures\",\n",
    "         \"A doctor holding the patient hand, the doctor is wearing a black watch, the patient has white cloth wrap around an arm\",\n",
    "         \"Big eye\"]\n",
    "\n",
    "for text in texts:\n",
    "    text_embedding = text_model.encode(text);\n",
    "    text_embedding = text_embedding.astype(np.float16)\n",
    "    max_score = 0\n",
    "    max_score_video_idx = 0\n",
    "    max_score_keyframe_idx = 0\n",
    "\n",
    "    for i in range(0, len(embeddings)):\n",
    "        score = util.cos_sim(text_embedding, embeddings[i])\n",
    "        max_img_idx = torch.argmax(score)\n",
    "\n",
    "        if (max_score < score[0][max_img_idx].item()):\n",
    "            max_score = score[0][max_img_idx].item()\n",
    "            max_score_video_idx = i\n",
    "            max_score_keyframe_idx = max_img_idx.item()\n",
    "    \n",
    "    file = os.path.basename(embeddings_map[max_score_video_idx])\n",
    "    base, extension = os.path.splitext(file)\n",
    "    print(max_score, \" - \", base)\n",
    "    print(keyframes_map[base].loc[keyframes_map[base]['n'] == max_score_keyframe_idx + 1])"
   ]
  }
 ],
 "metadata": {
  "kernelspec": {
   "display_name": "base",
   "language": "python",
   "name": "python3"
  },
  "language_info": {
   "codemirror_mode": {
    "name": "ipython",
    "version": 3
   },
   "file_extension": ".py",
   "mimetype": "text/x-python",
   "name": "python",
   "nbconvert_exporter": "python",
   "pygments_lexer": "ipython3",
   "version": "3.11.9"
  }
 },
 "nbformat": 4,
 "nbformat_minor": 2
}
