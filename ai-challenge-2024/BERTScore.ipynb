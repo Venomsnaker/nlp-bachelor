{
 "cells": [
  {
   "cell_type": "code",
   "execution_count": 23,
   "metadata": {},
   "outputs": [],
   "source": [
    "import json\n",
    "from pathlib import Path\n",
    "import os\n",
    "import re\n",
    "\n",
    "def ignore_sentence_contain_char(sentence ,  conditions=[['logo','htv'],['thời gian phát sóng'] , ['dưới' , 'dòng chữ'] , ['bên phải','htv']] , regex_char=[r'([01]\\d|2[0-3]):[0-5]\\d:[0-5]\\d']):\n",
    "        # return False if sentence contain char\n",
    "        if len(conditions) == 0:\n",
    "            return True\n",
    "        \n",
    "        for condition in conditions:\n",
    "            if len(condition) == 1:\n",
    "                if re.search(condition[0], sentence):\n",
    "                    return False\n",
    "            else:\n",
    "                if all(re.search(char, sentence) for char in condition):\n",
    "                    return False\n",
    "                \n",
    "        for pattern in regex_char:\n",
    "            if re.search(pattern, sentence):\n",
    "                return False\n",
    "            \n",
    "        return True\n",
    "\n",
    "def read_image_captions(folder_path):\n",
    "    image_captions = {}\n",
    "\n",
    "    for file in Path(folder_path).glob(\"*.jsonl\"):\n",
    "        file_image_captions = read_jsonl_to_list(file)\n",
    "        file_base, extension = os.path.splitext(os.path.basename(file))\n",
    "        image_captions[file_base] = file_image_captions\n",
    "    return image_captions\n",
    "\n",
    "def read_jsonl_to_list(file_path):\n",
    "    result = []\n",
    "    with open(file_path, 'r', encoding='utf-8') as file:\n",
    "        for line in file:\n",
    "            try:\n",
    "                json_obj = json.loads(line)\n",
    "                for key, value in json_obj.items():\n",
    "                    #value = ignore_sentence_contain_char(value)\n",
    "                    result.append([key.split('.')[0], value])\n",
    "            except json.JSONDecodeError:\n",
    "                print(f\"Skipping invalid JSON line: {line}\")\n",
    "    return result\n",
    "\n",
    "image_captions = read_image_captions(\"data/image-caption\")"
   ]
  },
  {
   "cell_type": "code",
   "execution_count": null,
   "metadata": {},
   "outputs": [],
   "source": [
    "from transformers import PhobertTokenizer, BertModel\n",
    "import torch\n",
    "import numpy as np\n",
    "\n",
    "tokenizer = PhobertTokenizer.from_pretrained(\"vinai/phobert-base\")\n",
    "model = BertModel.from_pretrained(\"vinai/phobert-base\")\n",
    "device = torch.device(\"cuda\")\n",
    "model.to('cuda')"
   ]
  },
  {
   "cell_type": "code",
   "execution_count": null,
   "metadata": {},
   "outputs": [],
   "source": [
    "text_input = \"Một cánh đồng cây xanh tươi tốt. Các cây được trồng theo hàng dọc, tạo thành những hình dạng độc đáo.\"\n",
    "inputs_sample = tokenizer(text_input, return_tensors=\"pt\", padding=True, truncation=True)\n",
    "inputs_sample = {k: v.to(device) for k, v in inputs_sample.items()}\n",
    "outputs_sample = model(**inputs_sample)\n",
    "embeddings_sample = outputs_sample.last_hidden_state.mean(dim=1).detach().cpu().numpy()\n",
    "\n",
    "caption_scores = []\n",
    "\n",
    "for caption in image_captions[\"L13_V001\"]:\n",
    "    inputs_candidate = tokenizer(caption, return_tensors=\"pt\", padding=True, truncation=True)\n",
    "    inputs_candidate = {k: v.to(device) for k, v in inputs_candidate.items()}\n",
    "    outputs_candidate = model(**inputs_candidate)\n",
    "    embeddings_candidate = outputs_candidate.last_hidden_state.mean(dim=1).detach().cpu().numpy()\n",
    "    similarity = np.dot(embeddings_sample, embeddings_candidate.T) / (np.linalg.norm(embeddings_sample) * np.linalg.norm(embeddings_candidate))\n",
    "    caption_scores.append([caption[1], similarity[0][0]])\n",
    "caption_scores = sorted(caption_scores, key = lambda item: item[-1], reverse=True)\n",
    "print(caption_scores)"
   ]
  }
 ],
 "metadata": {
  "kernelspec": {
   "display_name": "base",
   "language": "python",
   "name": "python3"
  },
  "language_info": {
   "codemirror_mode": {
    "name": "ipython",
    "version": 3
   },
   "file_extension": ".py",
   "mimetype": "text/x-python",
   "name": "python",
   "nbconvert_exporter": "python",
   "pygments_lexer": "ipython3",
   "version": "3.11.9"
  }
 },
 "nbformat": 4,
 "nbformat_minor": 2
}
