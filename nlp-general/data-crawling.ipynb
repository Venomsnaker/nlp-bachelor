{
 "cells": [
  {
   "cell_type": "code",
   "execution_count": null,
   "metadata": {},
   "outputs": [
    {
     "name": "stdout",
     "output_type": "stream",
     "text": [
      "            0            1                                  2      3   \\\n",
      "0    Đối tượng  Mã học phần                       Tên học phần  Lưu ý   \n",
      "1         47HH   CHEM105301                       Hoá kĩ thuật          \n",
      "2         47HH   CHEM105302                       Hoá kĩ thuật          \n",
      "3         47HH   CHEM145101  Hoá học các hợp chất cơ nguyên tố          \n",
      "4         47HH   CHEM145201                           Hóa dược          \n",
      "..         ...          ...                                ...    ...   \n",
      "245     Trả nợ   SCIE181001           Sinh học cơ thể thực vật  Lưu ý   \n",
      "246     Trả nợ     SCIE1409                    Sinh học tế bào  Lưu ý   \n",
      "247     Trả nợ     SCIE1410                       Thực vật học  Lưu ý   \n",
      "248     Trả nợ     SCIE1411                       Động vật học  Lưu ý   \n",
      "249     Trả nợ     SCIE1421               Sinh lý học thực vật  Lưu ý   \n",
      "\n",
      "                   4      5      6      7                       8   \\\n",
      "0               Thứ 2  Thứ 3  Thứ 4  Thứ 5                   Thứ 6   \n",
      "1                                             (Tiết 7-9) LVS.A.303   \n",
      "2                                           (Tiết 10-12) LVS.A.303   \n",
      "3    (Tiết 4-6) B.116                                                \n",
      "4                                             (Tiết 4-6) LVS.A.303   \n",
      "..                ...    ...    ...    ...                     ...   \n",
      "245                                                                  \n",
      "246                                                                  \n",
      "247                                                                  \n",
      "248                                                                  \n",
      "249                                                                  \n",
      "\n",
      "                   9                                                  10  \n",
      "0               Thứ 7                                         Giảng viên  \n",
      "1                                                        Trần Thị Tố Nga  \n",
      "2                                                        Trần Thị Tố Nga  \n",
      "3                                                           Lê Tín Thanh  \n",
      "4                                                           Bùi Xuân Hào  \n",
      "..                ...                                                ...  \n",
      "245  (Tiết 4-6) B.116  Quách Văn Toàn Em, Lương Thị Lệ Thơ, Nguyễn Th...  \n",
      "246                                                                       \n",
      "247                                                                       \n",
      "248                                                                       \n",
      "249                                                                       \n",
      "\n",
      "[250 rows x 11 columns]\n"
     ]
    }
   ],
   "source": [
    "from bs4 import BeautifulSoup\n",
    "import pandas as pd\n",
    "\n",
    "data = []\n",
    "with open('data/timetable.html') as f_html:\n",
    "    html = f_html.read()\n",
    "\n",
    "bs = BeautifulSoup(html, 'html.parser')\n",
    "table_body = bs.find('tbody')\n",
    "rows = table_body.find_all('tr')\n",
    "\n",
    "for tr in rows:\n",
    "    data.append([td.text for td in tr.find_all('td')])\n",
    "df = pd.DataFrame(data)\n",
    "print(df)"
   ]
  }
 ],
 "metadata": {
  "kernelspec": {
   "display_name": "base",
   "language": "python",
   "name": "python3"
  },
  "language_info": {
   "codemirror_mode": {
    "name": "ipython",
    "version": 3
   },
   "file_extension": ".py",
   "mimetype": "text/x-python",
   "name": "python",
   "nbconvert_exporter": "python",
   "pygments_lexer": "ipython3",
   "version": "3.11.9"
  }
 },
 "nbformat": 4,
 "nbformat_minor": 2
}
