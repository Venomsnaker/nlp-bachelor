{
 "cells": [
  {
   "cell_type": "code",
   "execution_count": 1,
   "metadata": {},
   "outputs": [
    {
     "data": {
      "text/plain": [
       "['quick',\n",
       " 'brown',\n",
       " 'fox',\n",
       " 'jumps',\n",
       " 'lazy',\n",
       " 'dog',\n",
       " '.',\n",
       " 'Waltz',\n",
       " ',',\n",
       " 'bad',\n",
       " 'nymph',\n",
       " ',',\n",
       " 'quick',\n",
       " 'jigs',\n",
       " 'vex',\n",
       " '!']"
      ]
     },
     "execution_count": 1,
     "metadata": {},
     "output_type": "execute_result"
    }
   ],
   "source": [
    "import nltk\n",
    "from nltk.corpus import stopwords\n",
    "\n",
    "example = \"\"\"The quick brown fox jumps over the lazy dog. \n",
    "            Waltz, bad nymph, for quick jigs vex!\"\"\"\n",
    "stop_words = set(stopwords.words(\"english\"))\n",
    "\n",
    "word_tokens = nltk.word_tokenize(example)\n",
    "filtered_setence = [w for w in word_tokens if not w.lower() in stop_words]\n",
    "\n",
    "filtered_setence"
   ]
  }
 ],
 "metadata": {
  "kernelspec": {
   "display_name": "base",
   "language": "python",
   "name": "python3"
  },
  "language_info": {
   "codemirror_mode": {
    "name": "ipython",
    "version": 3
   },
   "file_extension": ".py",
   "mimetype": "text/x-python",
   "name": "python",
   "nbconvert_exporter": "python",
   "pygments_lexer": "ipython3",
   "version": "3.12.4"
  }
 },
 "nbformat": 4,
 "nbformat_minor": 2
}
