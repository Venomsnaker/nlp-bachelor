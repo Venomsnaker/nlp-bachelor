{
 "cells": [
  {
   "cell_type": "code",
   "execution_count": null,
   "metadata": {},
   "outputs": [],
   "source": [
    "import tensorflow_hub as hub \n",
    "import tensorflow.compat.v1 as tf \n",
    "tf.disable_eager_execution() \n",
    "  \n",
    "elmo = hub.Module(\"https://tfhub.dev/google/elmo/3\", trainable=True) \n",
    "  \n",
    "embeddings = elmo( \n",
    "    [ \n",
    "        \"I love to watch TV\", \n",
    "        \"I am wearing a wrist watch\"\n",
    "    ], \n",
    "    signature=\"default\", \n",
    "    as_dict=True)[\"elmo\"] \n",
    "init = tf.initialize_all_variables() \n",
    "sess = tf.Session() \n",
    "sess.run(init) \n",
    "  \n",
    "print('Word embeddings for word WATCH in first sentence') \n",
    "print(sess.run(embeddings[0][3])) \n",
    "print('Word embeddings for word WATCH in second sentence') \n",
    "print(sess.run(embeddings[1][5]))"
   ]
  }
 ],
 "metadata": {
  "language_info": {
   "name": "python"
  }
 },
 "nbformat": 4,
 "nbformat_minor": 2
}
