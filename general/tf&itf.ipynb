{
 "cells": [
  {
   "cell_type": "code",
   "execution_count": 2,
   "metadata": {},
   "outputs": [
    {
     "name": "stdout",
     "output_type": "stream",
     "text": [
      "idf values:\n",
      "brown : 1.2876820724517808\n",
      "dog : 1.6931471805599454\n",
      "fox : 1.0\n",
      "jumps : 1.6931471805599454\n",
      "lazy : 1.6931471805599454\n",
      "over : 1.6931471805599454\n",
      "quick : 1.6931471805599454\n",
      "the : 1.0\n"
     ]
    }
   ],
   "source": [
    "from sklearn.feature_extraction.text import TfidfVectorizer\n",
    "\n",
    "d0 = \"the fox\"\n",
    "d1 = \"the brown fox\"\n",
    "d2 = \"the quick brown fox jumps over the lazy dog\"\n",
    "s = [d0, d1, d2]\n",
    "\n",
    "tfidf = TfidfVectorizer()\n",
    "res = tfidf.fit_transform(s)\n",
    "\n",
    "print('idf values:')\n",
    "for ele1, ele2 in zip(tfidf.get_feature_names_out(), tfidf.idf_):\n",
    "    print(ele1, ':', ele2)"
   ]
  },
  {
   "cell_type": "code",
   "execution_count": 6,
   "metadata": {},
   "outputs": [
    {
     "name": "stdout",
     "output_type": "stream",
     "text": [
      "Word indexes:\n",
      "{'the': 7, 'fox': 2, 'brown': 0, 'quick': 6, 'jumps': 3, 'over': 5, 'lazy': 4, 'dog': 1}\n",
      "ntfidf values\n",
      "  (0, 7)\t0.7071067811865475\n",
      "  (0, 2)\t0.7071067811865475\n",
      "  (1, 7)\t0.5228423068642596\n",
      "  (1, 2)\t0.5228423068642596\n",
      "  (1, 0)\t0.6732546652684398\n",
      "  (2, 7)\t0.43652036973914354\n",
      "  (2, 2)\t0.21826018486957177\n",
      "  (2, 0)\t0.28104972718655896\n",
      "  (2, 6)\t0.3695466166404079\n",
      "  (2, 3)\t0.3695466166404079\n",
      "  (2, 5)\t0.3695466166404079\n",
      "  (2, 4)\t0.3695466166404079\n",
      "  (2, 1)\t0.3695466166404079\n"
     ]
    },
    {
     "data": {
      "text/plain": [
       "array([[0.        , 0.        , 0.70710678, 0.        , 0.        ,\n",
       "        0.        , 0.        , 0.70710678],\n",
       "       [0.67325467, 0.        , 0.52284231, 0.        , 0.        ,\n",
       "        0.        , 0.        , 0.52284231],\n",
       "       [0.28104973, 0.36954662, 0.21826018, 0.36954662, 0.36954662,\n",
       "        0.36954662, 0.36954662, 0.43652037]])"
      ]
     },
     "execution_count": 6,
     "metadata": {},
     "output_type": "execute_result"
    }
   ],
   "source": [
    "print(\"Word indexes:\")\n",
    "print(tfidf.vocabulary_)\n",
    "\n",
    "print(\"ntfidf values\")\n",
    "print(res)\n",
    "res.toarray()"
   ]
  }
 ],
 "metadata": {
  "kernelspec": {
   "display_name": "base",
   "language": "python",
   "name": "python3"
  },
  "language_info": {
   "codemirror_mode": {
    "name": "ipython",
    "version": 3
   },
   "file_extension": ".py",
   "mimetype": "text/x-python",
   "name": "python",
   "nbconvert_exporter": "python",
   "pygments_lexer": "ipython3",
   "version": "3.11.9"
  }
 },
 "nbformat": 4,
 "nbformat_minor": 2
}
