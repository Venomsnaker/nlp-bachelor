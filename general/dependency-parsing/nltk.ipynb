{
 "cells": [
  {
   "cell_type": "code",
   "execution_count": 21,
   "metadata": {},
   "outputs": [
    {
     "name": "stderr",
     "output_type": "stream",
     "text": [
      "C:\\Users\\ADMIN\\AppData\\Local\\Temp\\ipykernel_11232\\4143841759.py:7: DeprecationWarning: The StanfordDependencyParser will be deprecated\n",
      "Please use \u001b[91mnltk.parse.corenlp.CoreNLPDependencyParser\u001b[0m instead.\n",
      "  parser = StanfordDependencyParser(path_to_jar=jar_path, path_to_models_jar=models_jar_path)\n"
     ]
    },
    {
     "name": "stdout",
     "output_type": "stream",
     "text": [
      "Head            | Head POS   | Relation   | Dependant       | Dependent POS\n",
      "--------------------------------------------------------------------------------\n",
      "going           | VBG        | nsubj      | man             | NN        \n",
      "man             | NN         | det        | An              | DT        \n",
      "man             | NN         | amod       | old             | JJ        \n",
      "going           | VBG        | aux        | is              | VBZ       \n",
      "going           | VBG        | obl        | bank            | NN        \n",
      "bank            | NN         | case       | to              | IN        \n",
      "bank            | NN         | det        | the             | DT        \n",
      "bank            | NN         | compound   | river           | NN        \n"
     ]
    }
   ],
   "source": [
    "from nltk.parse.stanford import StanfordDependencyParser\n",
    "\n",
    "jar_path = 'stanford-corenlp-4.5.7/stanford-corenlp-4.5.7/stanford-corenlp-4.5.7.jar'\n",
    "models_jar_path = 'stanford-corenlp-4.5.7/stanford-corenlp-models-english-kbp.jar'\n",
    "sentence = 'An old man is going to the river bank.'\n",
    "\n",
    "parser = StanfordDependencyParser(path_to_jar=jar_path, path_to_models_jar=models_jar_path)\n",
    "result = parser.raw_parse(sentence)\n",
    "dependency = result.__next__()\n",
    "\n",
    "print(\"{:<15} | {:<10} | {:<10} | {:<15} | {:<10}\".format('Head', 'Head POS', 'Relation', 'Dependant', 'Dependent POS'))\n",
    "print(\"-\" * 80)\n",
    "\n",
    "for dep in list(dependency.triples()):\n",
    "    print(\"{:<15} | {:<10} | {:<10} | {:<15} | {:<10}\"\n",
    "          .format(str(dep[0][0]), str(dep[0][1]), str(dep[1]), str(dep[2][0]), str(dep[2][1])))"
   ]
  }
 ],
 "metadata": {
  "kernelspec": {
   "display_name": "base",
   "language": "python",
   "name": "python3"
  },
  "language_info": {
   "codemirror_mode": {
    "name": "ipython",
    "version": 3
   },
   "file_extension": ".py",
   "mimetype": "text/x-python",
   "name": "python",
   "nbconvert_exporter": "python",
   "pygments_lexer": "ipython3",
   "version": "3.12.4"
  }
 },
 "nbformat": 4,
 "nbformat_minor": 2
}
