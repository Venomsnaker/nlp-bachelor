{
 "cells": [
  {
   "cell_type": "code",
   "execution_count": 52,
   "metadata": {},
   "outputs": [],
   "source": [
    "from PIL import Image, ImageFile\n",
    "import os\n",
    "from sentence_transformers import SentenceTransformer\n",
    "import torch\n",
    "from tqdm import tqdm\n",
    "import numpy as np\n",
    "import pandas as pd\n",
    "\n",
    "def load_image_paths(directory):\n",
    "    for file in os.listdir(directory):\n",
    "        file_name = os.fsdecode(file)\n",
    "        if file_name.endswith((\".jpg\")):\n",
    "            yield os.path.join(directory, file_name)\n",
    "\n",
    "def process_images(image_paths, model):\n",
    "    embeddings = []\n",
    "    embeddings_map = []\n",
    "    \n",
    "    for image_path in tqdm(image_paths, desc=\"Processing images\"):\n",
    "        try:\n",
    "            with Image.open(image_path) as img:\n",
    "                if img.mode != \"RGB\":\n",
    "                    img = img.convert(\"RGB\")\n",
    "                \n",
    "                embedding = model.encode(img)\n",
    "                embeddings.append(embedding)\n",
    "                embeddings_map.append(image_path.split(\"\\\\\")[-1])\n",
    "        except Exception as e:\n",
    "            print(f\"Error processing {image_path}: {e}\")\n",
    "    \n",
    "    return pd.Series(embeddings_map), np.array(embeddings)"
   ]
  },
  {
   "cell_type": "code",
   "execution_count": 53,
   "metadata": {},
   "outputs": [
    {
     "name": "stderr",
     "output_type": "stream",
     "text": [
      "Processing images: 100%|██████████| 10805/10805 [04:07<00:00, 43.58it/s]"
     ]
    },
    {
     "name": "stdout",
     "output_type": "stream",
     "text": [
      "Number of images processed: 10805\n",
      "Shape of embeddings: (10805, 512)\n"
     ]
    },
    {
     "name": "stderr",
     "output_type": "stream",
     "text": [
      "\n"
     ]
    }
   ],
   "source": [
    "device = \"cuda\" if torch.cuda.is_available() else \"cpu\"\n",
    "img_model = SentenceTransformer('clip-ViT-B-32', device=device)\n",
    "\n",
    "directory = \"data/train-images\"\n",
    "image_paths = list(load_image_paths(directory))\n",
    "embeddings_map, img_embeddings = process_images(image_paths, img_model)\n",
    "\n",
    "print(f\"Number of images processed: {len(img_embeddings)}\")\n",
    "print(f\"Shape of embeddings: {img_embeddings.shape}\")"
   ]
  },
  {
   "cell_type": "code",
   "execution_count": 62,
   "metadata": {},
   "outputs": [
    {
     "name": "stdout",
     "output_type": "stream",
     "text": [
      "Embeddings saved to data/embeddings/train_image_embeddings.npy\n"
     ]
    }
   ],
   "source": [
    "embeddings_map.to_csv(\"data/embeddings/train_image_embeddings.csv\", header=None, index=0)\n",
    "output_embeddings = \"data/embeddings/train_image_embeddings.npy\"\n",
    "np.save(output_embeddings, img_embeddings)\n",
    "print(f\"Embeddings saved to {output_embeddings}\")"
   ]
  },
  {
   "cell_type": "code",
   "execution_count": null,
   "metadata": {},
   "outputs": [],
   "source": []
  }
 ],
 "metadata": {
  "kernelspec": {
   "display_name": "base",
   "language": "python",
   "name": "python3"
  },
  "language_info": {
   "codemirror_mode": {
    "name": "ipython",
    "version": 3
   },
   "file_extension": ".py",
   "mimetype": "text/x-python",
   "name": "python",
   "nbconvert_exporter": "python",
   "pygments_lexer": "ipython3",
   "version": "3.11.9"
  }
 },
 "nbformat": 4,
 "nbformat_minor": 2
}
